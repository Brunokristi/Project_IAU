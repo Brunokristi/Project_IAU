{
 "cells": [
  {
   "cell_type": "code",
   "execution_count": 6,
   "metadata": {},
   "outputs": [],
   "source": [
    "import numpy as np\n",
    "import pandas as pd\n",
    "import matplotlib.pyplot as plt\n",
    "import seaborn as sns\n",
    "from sklearn.metrics import accuracy_score, precision_score, recall_score"
   ]
  },
  {
   "cell_type": "markdown",
   "metadata": {},
   "source": []
  },
  {
   "cell_type": "code",
   "execution_count": 7,
   "metadata": {},
   "outputs": [],
   "source": [
    "X_train = pd.read_csv(\"X_train.csv\", sep = ',')\n",
    "y_train = pd.read_csv(\"y_train.csv\", sep = ',')\n",
    "X_test = pd.read_csv(\"X_test.csv\", sep = ',')\n",
    "y_test = pd.read_csv(\"y_test.csv\", sep = ',')\n",
    "\n",
    "merged_train_data = pd.concat([X_train, y_train], axis=1)\n",
    "train_data = merged_train_data\n",
    "\n",
    "merged_test_data = pd.concat([X_test, y_test], axis=1)\n",
    "test_data = merged_test_data"
   ]
  },
  {
   "cell_type": "code",
   "execution_count": 8,
   "metadata": {},
   "outputs": [],
   "source": [
    "oneR_train_data = train_data.copy()"
   ]
  },
  {
   "cell_type": "code",
   "execution_count": 9,
   "metadata": {},
   "outputs": [],
   "source": [
    "def get_predictor_value(dataframe, column):\n",
    "    split = (dataframe[column][dataframe['ack'] == 0].mean() + dataframe[column][dataframe['ack'] == 1].mean())/2\n",
    "    group = dataframe[dataframe[column] > split].groupby('ack').size()\n",
    "    if group[0] > group[1]:\n",
    "        left = 1\n",
    "        right = 0\n",
    "    else:\n",
    "        left = 0\n",
    "        right = 1\n",
    "\n",
    "    return split, left, right\n",
    "\n",
    "def oneR(train_data, column, data):\n",
    "    train_data.loc[train_data[column] < data[0], 'temp'] = data[1]\n",
    "    train_data.loc[train_data[column] >= data[0], 'temp'] = data[2]\n",
    "    accuracy = accuracy_score(train_data['ack'], train_data['temp'])\n",
    "    precision = precision_score(train_data['ack'], train_data['temp'])\n",
    "    recall = recall_score(train_data['ack'], train_data['temp'])\n",
    "    total=(accuracy + precision + recall) / 3\n",
    "    train_data.drop('temp', axis=1, inplace=True)\n",
    "    return [accuracy, precision, recall,total]"
   ]
  },
  {
   "cell_type": "code",
   "execution_count": 10,
   "metadata": {},
   "outputs": [
    {
     "name": "stdout",
     "output_type": "stream",
     "text": [
      "best column from oneR: page_activity_duration\n",
      "total: 0.900567200058147\n",
      "accuracy: 0.8994723687864482\n",
      "precision: 0.8568387440127727\n",
      "recall: 0.9453904873752202\n"
     ]
    }
   ],
   "source": [
    "best_accuracy = 0 \n",
    "for column in oneR_train_data.columns:\n",
    "    if column == 'ack':\n",
    "        continue\n",
    "    data = get_predictor_value(oneR_train_data, column)\n",
    "    accuracy_values = oneR(oneR_train_data, column, data)\n",
    "    if accuracy_values[3] > best_accuracy:\n",
    "        best_column = column\n",
    "        best_accuracy = accuracy_values[3]\n",
    "        best_column_metrics = accuracy_values\n",
    "\n",
    "print('best column from oneR: ' + best_column)\n",
    "print('total: ' + str(best_column_metrics[3]))\n",
    "print('accuracy: ' + str(best_column_metrics[0]))\n",
    "print('precision: ' + str(best_column_metrics[1]))\n",
    "print('recall: ' + str(best_column_metrics[2]))"
   ]
  }
 ],
 "metadata": {
  "kernelspec": {
   "display_name": "Python 3",
   "language": "python",
   "name": "python3"
  },
  "language_info": {
   "codemirror_mode": {
    "name": "ipython",
    "version": 3
   },
   "file_extension": ".py",
   "mimetype": "text/x-python",
   "name": "python",
   "nbconvert_exporter": "python",
   "pygments_lexer": "ipython3",
   "version": "3.11.1"
  }
 },
 "nbformat": 4,
 "nbformat_minor": 2
}
