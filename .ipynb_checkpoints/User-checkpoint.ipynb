{
 "cells": [
  {
   "cell_type": "code",
   "execution_count": 53,
   "id": "71cf7247",
   "metadata": {},
   "outputs": [],
   "source": [
    "import pandas as pd\n",
    "import numpy as np\n",
    "import seaborn as sns"
   ]
  },
  {
   "cell_type": "code",
   "execution_count": 54,
   "id": "62ba2dcc",
   "metadata": {},
   "outputs": [],
   "source": [
    "#load file"
   ]
  },
  {
   "cell_type": "code",
   "execution_count": 55,
   "id": "e935e20c",
   "metadata": {},
   "outputs": [],
   "source": [
    "user = pd.read_csv(\"C:/Users/default.LAPTOP-E7URUV4I/Desktop/IAU/Project/user.csv\", sep='\\t')"
   ]
  },
  {
   "cell_type": "code",
   "execution_count": 56,
   "id": "d0c92504",
   "metadata": {},
   "outputs": [],
   "source": [
    "#get basic sense about users in user.csv"
   ]
  },
  {
   "cell_type": "code",
   "execution_count": 57,
   "id": "940a4ba2",
   "metadata": {},
   "outputs": [
    {
     "data": {
      "text/plain": [
       "(2579, 11)"
      ]
     },
     "execution_count": 57,
     "metadata": {},
     "output_type": "execute_result"
    }
   ],
   "source": [
    "user.shape"
   ]
  },
  {
   "cell_type": "code",
   "execution_count": 58,
   "id": "66510925",
   "metadata": {},
   "outputs": [],
   "source": [
    "#we see that the user.csv file has 11 comuns and 2579 rows"
   ]
  },
  {
   "cell_type": "code",
   "execution_count": 138,
   "id": "d84eb629",
   "metadata": {},
   "outputs": [
    {
     "data": {
      "text/html": [
       "<div>\n",
       "<style scoped>\n",
       "    .dataframe tbody tr th:only-of-type {\n",
       "        vertical-align: middle;\n",
       "    }\n",
       "\n",
       "    .dataframe tbody tr th {\n",
       "        vertical-align: top;\n",
       "    }\n",
       "\n",
       "    .dataframe thead th {\n",
       "        text-align: right;\n",
       "    }\n",
       "</style>\n",
       "<table border=\"1\" class=\"dataframe\">\n",
       "  <thead>\n",
       "    <tr style=\"text-align: right;\">\n",
       "      <th></th>\n",
       "      <th>job</th>\n",
       "      <th>birthdate</th>\n",
       "      <th>name</th>\n",
       "      <th>sex</th>\n",
       "      <th>address</th>\n",
       "      <th>residence</th>\n",
       "      <th>username</th>\n",
       "      <th>registration</th>\n",
       "      <th>user_id</th>\n",
       "      <th>mail</th>\n",
       "      <th>race</th>\n",
       "    </tr>\n",
       "  </thead>\n",
       "  <tbody>\n",
       "    <tr>\n",
       "      <th>0</th>\n",
       "      <td>Nurse, children's</td>\n",
       "      <td>1965-08-08</td>\n",
       "      <td>Ludmila Šimková</td>\n",
       "      <td>F</td>\n",
       "      <td>Bořetínská 20\\n481 76 Polná</td>\n",
       "      <td>Konžská 16\\n405 90 Borohrádek</td>\n",
       "      <td>vladimirablahova</td>\n",
       "      <td>09/18/2020, 00:00:00</td>\n",
       "      <td>782</td>\n",
       "      <td>hajekadam@chello.cz</td>\n",
       "      <td>NaN</td>\n",
       "    </tr>\n",
       "    <tr>\n",
       "      <th>1</th>\n",
       "      <td>NaN</td>\n",
       "      <td>NaN</td>\n",
       "      <td>Fabrizia Beccaria</td>\n",
       "      <td>NaN</td>\n",
       "      <td>Stretto Zarlino, 87\\n10039, Pecco (TO)</td>\n",
       "      <td>NaN</td>\n",
       "      <td>paloma33</td>\n",
       "      <td>14 May 2021</td>\n",
       "      <td>2158</td>\n",
       "      <td>silvioiacobucci@libero.it</td>\n",
       "      <td>NaN</td>\n",
       "    </tr>\n",
       "    <tr>\n",
       "      <th>2</th>\n",
       "      <td>NaN</td>\n",
       "      <td>NaN</td>\n",
       "      <td>João Alves</td>\n",
       "      <td>NaN</td>\n",
       "      <td>Passarela de Jesus, 33\\nPirineus\\n19889610 Cav...</td>\n",
       "      <td>NaN</td>\n",
       "      <td>eduardoda-rosa</td>\n",
       "      <td>2017/06/23</td>\n",
       "      <td>747</td>\n",
       "      <td>beniciocampos@yahoo.com.br</td>\n",
       "      <td>NaN</td>\n",
       "    </tr>\n",
       "    <tr>\n",
       "      <th>3</th>\n",
       "      <td>Exhibitions officer, museum/gallery</td>\n",
       "      <td>2003-02-24</td>\n",
       "      <td>Zdeňka Krejčová</td>\n",
       "      <td>F</td>\n",
       "      <td>Novákovo Náměstí 2\\n582 33 Protivín</td>\n",
       "      <td>NaN</td>\n",
       "      <td>jandovanela</td>\n",
       "      <td>2019/05/16</td>\n",
       "      <td>2204</td>\n",
       "      <td>jelinkovapetra@email.cz</td>\n",
       "      <td>NaN</td>\n",
       "    </tr>\n",
       "    <tr>\n",
       "      <th>4</th>\n",
       "      <td>NaN</td>\n",
       "      <td>NaN</td>\n",
       "      <td>Juan Cunha</td>\n",
       "      <td>NaN</td>\n",
       "      <td>Área Melo, 55\\nDom Cabral\\n03392-450 Ferreira ...</td>\n",
       "      <td>NaN</td>\n",
       "      <td>lara09</td>\n",
       "      <td>2019/10/28</td>\n",
       "      <td>720</td>\n",
       "      <td>stella46@bol.com.br</td>\n",
       "      <td>NaN</td>\n",
       "    </tr>\n",
       "  </tbody>\n",
       "</table>\n",
       "</div>"
      ],
      "text/plain": [
       "                                   job   birthdate               name  sex  \\\n",
       "0                    Nurse, children's  1965-08-08    Ludmila Šimková    F   \n",
       "1                                  NaN         NaN  Fabrizia Beccaria  NaN   \n",
       "2                                  NaN         NaN         João Alves  NaN   \n",
       "3  Exhibitions officer, museum/gallery  2003-02-24    Zdeňka Krejčová    F   \n",
       "4                                  NaN         NaN         Juan Cunha  NaN   \n",
       "\n",
       "                                             address  \\\n",
       "0                        Bořetínská 20\\n481 76 Polná   \n",
       "1             Stretto Zarlino, 87\\n10039, Pecco (TO)   \n",
       "2  Passarela de Jesus, 33\\nPirineus\\n19889610 Cav...   \n",
       "3                Novákovo Náměstí 2\\n582 33 Protivín   \n",
       "4  Área Melo, 55\\nDom Cabral\\n03392-450 Ferreira ...   \n",
       "\n",
       "                       residence          username          registration  \\\n",
       "0  Konžská 16\\n405 90 Borohrádek  vladimirablahova  09/18/2020, 00:00:00   \n",
       "1                            NaN          paloma33           14 May 2021   \n",
       "2                            NaN    eduardoda-rosa            2017/06/23   \n",
       "3                            NaN       jandovanela            2019/05/16   \n",
       "4                            NaN            lara09            2019/10/28   \n",
       "\n",
       "   user_id                        mail race  \n",
       "0      782         hajekadam@chello.cz  NaN  \n",
       "1     2158   silvioiacobucci@libero.it  NaN  \n",
       "2      747  beniciocampos@yahoo.com.br  NaN  \n",
       "3     2204     jelinkovapetra@email.cz  NaN  \n",
       "4      720         stella46@bol.com.br  NaN  "
      ]
     },
     "execution_count": 138,
     "metadata": {},
     "output_type": "execute_result"
    }
   ],
   "source": [
    "user.head()"
   ]
  },
  {
   "cell_type": "code",
   "execution_count": 139,
   "id": "42f6f2b5",
   "metadata": {},
   "outputs": [
    {
     "data": {
      "text/html": [
       "<div>\n",
       "<style scoped>\n",
       "    .dataframe tbody tr th:only-of-type {\n",
       "        vertical-align: middle;\n",
       "    }\n",
       "\n",
       "    .dataframe tbody tr th {\n",
       "        vertical-align: top;\n",
       "    }\n",
       "\n",
       "    .dataframe thead th {\n",
       "        text-align: right;\n",
       "    }\n",
       "</style>\n",
       "<table border=\"1\" class=\"dataframe\">\n",
       "  <thead>\n",
       "    <tr style=\"text-align: right;\">\n",
       "      <th></th>\n",
       "      <th>user_id</th>\n",
       "    </tr>\n",
       "  </thead>\n",
       "  <tbody>\n",
       "    <tr>\n",
       "      <th>count</th>\n",
       "      <td>2579.000000</td>\n",
       "    </tr>\n",
       "    <tr>\n",
       "      <th>mean</th>\n",
       "      <td>1284.920124</td>\n",
       "    </tr>\n",
       "    <tr>\n",
       "      <th>std</th>\n",
       "      <td>727.080732</td>\n",
       "    </tr>\n",
       "    <tr>\n",
       "      <th>min</th>\n",
       "      <td>0.000000</td>\n",
       "    </tr>\n",
       "    <tr>\n",
       "      <th>25%</th>\n",
       "      <td>675.000000</td>\n",
       "    </tr>\n",
       "    <tr>\n",
       "      <th>50%</th>\n",
       "      <td>1285.000000</td>\n",
       "    </tr>\n",
       "    <tr>\n",
       "      <th>75%</th>\n",
       "      <td>1918.000000</td>\n",
       "    </tr>\n",
       "    <tr>\n",
       "      <th>max</th>\n",
       "      <td>2578.000000</td>\n",
       "    </tr>\n",
       "  </tbody>\n",
       "</table>\n",
       "</div>"
      ],
      "text/plain": [
       "           user_id\n",
       "count  2579.000000\n",
       "mean   1284.920124\n",
       "std     727.080732\n",
       "min       0.000000\n",
       "25%     675.000000\n",
       "50%    1285.000000\n",
       "75%    1918.000000\n",
       "max    2578.000000"
      ]
     },
     "execution_count": 139,
     "metadata": {},
     "output_type": "execute_result"
    }
   ],
   "source": [
    "user.describe()"
   ]
  },
  {
   "cell_type": "code",
   "execution_count": 140,
   "id": "d6d4852f",
   "metadata": {},
   "outputs": [
    {
     "data": {
      "text/plain": [
       "job              604\n",
       "birthdate       1401\n",
       "name            2525\n",
       "sex                2\n",
       "address         2192\n",
       "residence        903\n",
       "username        2546\n",
       "registration    2369\n",
       "user_id         1626\n",
       "mail            2573\n",
       "race               5\n",
       "dtype: int64"
      ]
     },
     "execution_count": 140,
     "metadata": {},
     "output_type": "execute_result"
    }
   ],
   "source": [
    "user.nunique()"
   ]
  },
  {
   "cell_type": "code",
   "execution_count": 141,
   "id": "0a3fc35b",
   "metadata": {},
   "outputs": [],
   "source": [
    "#we have a problem! the user_ids range from 0-2578 but there are only 1626\n",
    "#unique user_ids\n",
    "#TODO what does that mean?"
   ]
  },
  {
   "cell_type": "code",
   "execution_count": 142,
   "id": "3b21f656",
   "metadata": {},
   "outputs": [],
   "source": [
    "#now we analyse how many columns include null values"
   ]
  },
  {
   "cell_type": "code",
   "execution_count": 143,
   "id": "36648a22",
   "metadata": {
    "scrolled": true
   },
   "outputs": [
    {
     "data": {
      "text/plain": [
       "job             1547\n",
       "birthdate       1161\n",
       "name               0\n",
       "sex             1290\n",
       "address          387\n",
       "residence       1676\n",
       "username           0\n",
       "registration       0\n",
       "user_id            0\n",
       "mail               0\n",
       "race            1805\n",
       "dtype: int64"
      ]
     },
     "execution_count": 143,
     "metadata": {},
     "output_type": "execute_result"
    }
   ],
   "source": [
    "user.isnull().sum()"
   ]
  },
  {
   "cell_type": "code",
   "execution_count": 144,
   "id": "7ff6a67e",
   "metadata": {},
   "outputs": [
    {
     "data": {
      "text/html": [
       "<div>\n",
       "<style scoped>\n",
       "    .dataframe tbody tr th:only-of-type {\n",
       "        vertical-align: middle;\n",
       "    }\n",
       "\n",
       "    .dataframe tbody tr th {\n",
       "        vertical-align: top;\n",
       "    }\n",
       "\n",
       "    .dataframe thead th {\n",
       "        text-align: right;\n",
       "    }\n",
       "</style>\n",
       "<table border=\"1\" class=\"dataframe\">\n",
       "  <thead>\n",
       "    <tr style=\"text-align: right;\">\n",
       "      <th></th>\n",
       "      <th>Column Name</th>\n",
       "      <th>Percentage Null</th>\n",
       "    </tr>\n",
       "  </thead>\n",
       "  <tbody>\n",
       "    <tr>\n",
       "      <th>0</th>\n",
       "      <td>job</td>\n",
       "      <td>59.984490</td>\n",
       "    </tr>\n",
       "    <tr>\n",
       "      <th>1</th>\n",
       "      <td>birthdate</td>\n",
       "      <td>45.017449</td>\n",
       "    </tr>\n",
       "    <tr>\n",
       "      <th>2</th>\n",
       "      <td>name</td>\n",
       "      <td>0.000000</td>\n",
       "    </tr>\n",
       "    <tr>\n",
       "      <th>3</th>\n",
       "      <td>sex</td>\n",
       "      <td>50.019387</td>\n",
       "    </tr>\n",
       "    <tr>\n",
       "      <th>4</th>\n",
       "      <td>address</td>\n",
       "      <td>15.005816</td>\n",
       "    </tr>\n",
       "    <tr>\n",
       "      <th>5</th>\n",
       "      <td>residence</td>\n",
       "      <td>64.986429</td>\n",
       "    </tr>\n",
       "    <tr>\n",
       "      <th>6</th>\n",
       "      <td>username</td>\n",
       "      <td>0.000000</td>\n",
       "    </tr>\n",
       "    <tr>\n",
       "      <th>7</th>\n",
       "      <td>registration</td>\n",
       "      <td>0.000000</td>\n",
       "    </tr>\n",
       "    <tr>\n",
       "      <th>8</th>\n",
       "      <td>user_id</td>\n",
       "      <td>0.000000</td>\n",
       "    </tr>\n",
       "    <tr>\n",
       "      <th>9</th>\n",
       "      <td>mail</td>\n",
       "      <td>0.000000</td>\n",
       "    </tr>\n",
       "    <tr>\n",
       "      <th>10</th>\n",
       "      <td>race</td>\n",
       "      <td>69.988368</td>\n",
       "    </tr>\n",
       "  </tbody>\n",
       "</table>\n",
       "</div>"
      ],
      "text/plain": [
       "     Column Name  Percentage Null\n",
       "0            job        59.984490\n",
       "1      birthdate        45.017449\n",
       "2           name         0.000000\n",
       "3            sex        50.019387\n",
       "4        address        15.005816\n",
       "5      residence        64.986429\n",
       "6       username         0.000000\n",
       "7   registration         0.000000\n",
       "8        user_id         0.000000\n",
       "9           mail         0.000000\n",
       "10          race        69.988368"
      ]
     },
     "execution_count": 144,
     "metadata": {},
     "output_type": "execute_result"
    }
   ],
   "source": [
    "null_counts = user.isnull().sum()\n",
    "total_records = user.shape[0]\n",
    "percentage_null = (null_counts / total_records) * 100\n",
    "pd.DataFrame({'Column Name': percentage_null.index, 'Percentage Null': percentage_null.values})"
   ]
  },
  {
   "cell_type": "code",
   "execution_count": 145,
   "id": "d7d58c9a",
   "metadata": {},
   "outputs": [],
   "source": [
    "#it is adviced to drop the values or replace the values if the null amount \n",
    "#exceeds 2%"
   ]
  },
  {
   "cell_type": "code",
   "execution_count": 146,
   "id": "1bd07ea4",
   "metadata": {},
   "outputs": [],
   "source": [
    "#in our dataset we can see that the required information in user registration \n",
    "#are 'name', 'username', 'registration', 'user_id' and 'mail'"
   ]
  },
  {
   "cell_type": "code",
   "execution_count": 147,
   "id": "097320dd",
   "metadata": {},
   "outputs": [],
   "source": [
    "#should we drop all the data in other columns?"
   ]
  },
  {
   "cell_type": "code",
   "execution_count": 148,
   "id": "bbdff7d0",
   "metadata": {},
   "outputs": [],
   "source": [
    "#the most important data to collect from costumrs to know your \n",
    "#costumer demographics are:\n",
    "#age\n",
    "#gender\n",
    "#location\n",
    "#ethnicity"
   ]
  },
  {
   "cell_type": "code",
   "execution_count": 149,
   "id": "5f6c3029",
   "metadata": {},
   "outputs": [],
   "source": [
    "#in my opinion we don't need the columns 'job', 'name', adress', 'residence'\n",
    "#'username',\n",
    "\n",
    "#so let's just delete it "
   ]
  },
  {
   "cell_type": "code",
   "execution_count": 183,
   "id": "187259f7",
   "metadata": {},
   "outputs": [],
   "source": [
    "user_reduced = user.drop(['job', 'name', 'username', 'address', 'residence'], axis = 1)"
   ]
  },
  {
   "cell_type": "code",
   "execution_count": 184,
   "id": "b613e45b",
   "metadata": {},
   "outputs": [
    {
     "data": {
      "text/html": [
       "<div>\n",
       "<style scoped>\n",
       "    .dataframe tbody tr th:only-of-type {\n",
       "        vertical-align: middle;\n",
       "    }\n",
       "\n",
       "    .dataframe tbody tr th {\n",
       "        vertical-align: top;\n",
       "    }\n",
       "\n",
       "    .dataframe thead th {\n",
       "        text-align: right;\n",
       "    }\n",
       "</style>\n",
       "<table border=\"1\" class=\"dataframe\">\n",
       "  <thead>\n",
       "    <tr style=\"text-align: right;\">\n",
       "      <th></th>\n",
       "      <th>birthdate</th>\n",
       "      <th>sex</th>\n",
       "      <th>registration</th>\n",
       "      <th>user_id</th>\n",
       "      <th>mail</th>\n",
       "      <th>race</th>\n",
       "    </tr>\n",
       "  </thead>\n",
       "  <tbody>\n",
       "    <tr>\n",
       "      <th>0</th>\n",
       "      <td>1965-08-08</td>\n",
       "      <td>F</td>\n",
       "      <td>09/18/2020, 00:00:00</td>\n",
       "      <td>782</td>\n",
       "      <td>hajekadam@chello.cz</td>\n",
       "      <td>NaN</td>\n",
       "    </tr>\n",
       "    <tr>\n",
       "      <th>1</th>\n",
       "      <td>NaN</td>\n",
       "      <td>NaN</td>\n",
       "      <td>14 May 2021</td>\n",
       "      <td>2158</td>\n",
       "      <td>silvioiacobucci@libero.it</td>\n",
       "      <td>NaN</td>\n",
       "    </tr>\n",
       "    <tr>\n",
       "      <th>2</th>\n",
       "      <td>NaN</td>\n",
       "      <td>NaN</td>\n",
       "      <td>2017/06/23</td>\n",
       "      <td>747</td>\n",
       "      <td>beniciocampos@yahoo.com.br</td>\n",
       "      <td>NaN</td>\n",
       "    </tr>\n",
       "    <tr>\n",
       "      <th>3</th>\n",
       "      <td>2003-02-24</td>\n",
       "      <td>F</td>\n",
       "      <td>2019/05/16</td>\n",
       "      <td>2204</td>\n",
       "      <td>jelinkovapetra@email.cz</td>\n",
       "      <td>NaN</td>\n",
       "    </tr>\n",
       "    <tr>\n",
       "      <th>4</th>\n",
       "      <td>NaN</td>\n",
       "      <td>NaN</td>\n",
       "      <td>2019/10/28</td>\n",
       "      <td>720</td>\n",
       "      <td>stella46@bol.com.br</td>\n",
       "      <td>NaN</td>\n",
       "    </tr>\n",
       "  </tbody>\n",
       "</table>\n",
       "</div>"
      ],
      "text/plain": [
       "    birthdate  sex          registration  user_id                        mail  \\\n",
       "0  1965-08-08    F  09/18/2020, 00:00:00      782         hajekadam@chello.cz   \n",
       "1         NaN  NaN           14 May 2021     2158   silvioiacobucci@libero.it   \n",
       "2         NaN  NaN            2017/06/23      747  beniciocampos@yahoo.com.br   \n",
       "3  2003-02-24    F            2019/05/16     2204     jelinkovapetra@email.cz   \n",
       "4         NaN  NaN            2019/10/28      720         stella46@bol.com.br   \n",
       "\n",
       "  race  \n",
       "0  NaN  \n",
       "1  NaN  \n",
       "2  NaN  \n",
       "3  NaN  \n",
       "4  NaN  "
      ]
     },
     "execution_count": 184,
     "metadata": {},
     "output_type": "execute_result"
    }
   ],
   "source": [
    "user_reduced.head()"
   ]
  },
  {
   "cell_type": "code",
   "execution_count": 185,
   "id": "1d225344",
   "metadata": {},
   "outputs": [],
   "source": [
    "#let's clen the data"
   ]
  },
  {
   "cell_type": "code",
   "execution_count": 186,
   "id": "a257a83d",
   "metadata": {},
   "outputs": [],
   "source": [
    "#we'll start with the bithdate column"
   ]
  },
  {
   "cell_type": "code",
   "execution_count": 187,
   "id": "47b41f2a",
   "metadata": {},
   "outputs": [],
   "source": [
    "#we extract only the year of birth from the buirthday column\n",
    "user_reduced['birthdate'] = pd.to_datetime(user_reduced['birthdate'], errors='coerce')\n",
    "user_reduced['birth_year'] = user_reduced['birthdate'].dt.year\n",
    "user_reduced.drop(columns=['birthdate'], inplace=True)"
   ]
  },
  {
   "cell_type": "code",
   "execution_count": 188,
   "id": "a7e5343d",
   "metadata": {},
   "outputs": [],
   "source": [
    "#and fill in all the null values with the average of the birth years\n",
    "mean_birth_year = user_reduced['birth_year'].mean()\n",
    "user_reduced['birth_year'].fillna(round(mean_birth_year), inplace=True)\n",
    "user_reduced['birth_year'] = user_reduced['birth_year'].astype('Int64')"
   ]
  },
  {
   "cell_type": "code",
   "execution_count": 189,
   "id": "c965fc91",
   "metadata": {},
   "outputs": [
    {
     "data": {
      "text/html": [
       "<div>\n",
       "<style scoped>\n",
       "    .dataframe tbody tr th:only-of-type {\n",
       "        vertical-align: middle;\n",
       "    }\n",
       "\n",
       "    .dataframe tbody tr th {\n",
       "        vertical-align: top;\n",
       "    }\n",
       "\n",
       "    .dataframe thead th {\n",
       "        text-align: right;\n",
       "    }\n",
       "</style>\n",
       "<table border=\"1\" class=\"dataframe\">\n",
       "  <thead>\n",
       "    <tr style=\"text-align: right;\">\n",
       "      <th></th>\n",
       "      <th>sex</th>\n",
       "      <th>registration</th>\n",
       "      <th>user_id</th>\n",
       "      <th>mail</th>\n",
       "      <th>race</th>\n",
       "      <th>birth_year</th>\n",
       "    </tr>\n",
       "  </thead>\n",
       "  <tbody>\n",
       "    <tr>\n",
       "      <th>0</th>\n",
       "      <td>F</td>\n",
       "      <td>09/18/2020, 00:00:00</td>\n",
       "      <td>782</td>\n",
       "      <td>hajekadam@chello.cz</td>\n",
       "      <td>NaN</td>\n",
       "      <td>1965</td>\n",
       "    </tr>\n",
       "    <tr>\n",
       "      <th>1</th>\n",
       "      <td>NaN</td>\n",
       "      <td>14 May 2021</td>\n",
       "      <td>2158</td>\n",
       "      <td>silvioiacobucci@libero.it</td>\n",
       "      <td>NaN</td>\n",
       "      <td>1964</td>\n",
       "    </tr>\n",
       "    <tr>\n",
       "      <th>2</th>\n",
       "      <td>NaN</td>\n",
       "      <td>2017/06/23</td>\n",
       "      <td>747</td>\n",
       "      <td>beniciocampos@yahoo.com.br</td>\n",
       "      <td>NaN</td>\n",
       "      <td>1964</td>\n",
       "    </tr>\n",
       "    <tr>\n",
       "      <th>3</th>\n",
       "      <td>F</td>\n",
       "      <td>2019/05/16</td>\n",
       "      <td>2204</td>\n",
       "      <td>jelinkovapetra@email.cz</td>\n",
       "      <td>NaN</td>\n",
       "      <td>2003</td>\n",
       "    </tr>\n",
       "    <tr>\n",
       "      <th>4</th>\n",
       "      <td>NaN</td>\n",
       "      <td>2019/10/28</td>\n",
       "      <td>720</td>\n",
       "      <td>stella46@bol.com.br</td>\n",
       "      <td>NaN</td>\n",
       "      <td>1964</td>\n",
       "    </tr>\n",
       "  </tbody>\n",
       "</table>\n",
       "</div>"
      ],
      "text/plain": [
       "   sex          registration  user_id                        mail race  \\\n",
       "0    F  09/18/2020, 00:00:00      782         hajekadam@chello.cz  NaN   \n",
       "1  NaN           14 May 2021     2158   silvioiacobucci@libero.it  NaN   \n",
       "2  NaN            2017/06/23      747  beniciocampos@yahoo.com.br  NaN   \n",
       "3    F            2019/05/16     2204     jelinkovapetra@email.cz  NaN   \n",
       "4  NaN            2019/10/28      720         stella46@bol.com.br  NaN   \n",
       "\n",
       "   birth_year  \n",
       "0        1965  \n",
       "1        1964  \n",
       "2        1964  \n",
       "3        2003  \n",
       "4        1964  "
      ]
     },
     "execution_count": 189,
     "metadata": {},
     "output_type": "execute_result"
    }
   ],
   "source": [
    "user_reduced.head()"
   ]
  },
  {
   "cell_type": "code",
   "execution_count": 190,
   "id": "abd34d48",
   "metadata": {},
   "outputs": [],
   "source": [
    "#let's attempt to extract the location of a user using the 'mail' column"
   ]
  },
  {
   "cell_type": "code",
   "execution_count": 191,
   "id": "edd716d3",
   "metadata": {},
   "outputs": [],
   "source": [
    "#first of all we extract the county code from the email\n",
    "user_reduced['country_code'] = user_reduced['mail'].str.split('@').str[1].str.split('.').str[-1]\n",
    "user_reduced.drop(columns=['mail'], inplace=True)"
   ]
  },
  {
   "cell_type": "code",
   "execution_count": 192,
   "id": "94d9a829",
   "metadata": {},
   "outputs": [
    {
     "data": {
      "text/html": [
       "<div>\n",
       "<style scoped>\n",
       "    .dataframe tbody tr th:only-of-type {\n",
       "        vertical-align: middle;\n",
       "    }\n",
       "\n",
       "    .dataframe tbody tr th {\n",
       "        vertical-align: top;\n",
       "    }\n",
       "\n",
       "    .dataframe thead th {\n",
       "        text-align: right;\n",
       "    }\n",
       "</style>\n",
       "<table border=\"1\" class=\"dataframe\">\n",
       "  <thead>\n",
       "    <tr style=\"text-align: right;\">\n",
       "      <th></th>\n",
       "      <th>sex</th>\n",
       "      <th>registration</th>\n",
       "      <th>user_id</th>\n",
       "      <th>race</th>\n",
       "      <th>birth_year</th>\n",
       "      <th>country_code</th>\n",
       "    </tr>\n",
       "  </thead>\n",
       "  <tbody>\n",
       "    <tr>\n",
       "      <th>0</th>\n",
       "      <td>F</td>\n",
       "      <td>09/18/2020, 00:00:00</td>\n",
       "      <td>782</td>\n",
       "      <td>NaN</td>\n",
       "      <td>1965</td>\n",
       "      <td>cz</td>\n",
       "    </tr>\n",
       "    <tr>\n",
       "      <th>1</th>\n",
       "      <td>NaN</td>\n",
       "      <td>14 May 2021</td>\n",
       "      <td>2158</td>\n",
       "      <td>NaN</td>\n",
       "      <td>1964</td>\n",
       "      <td>it</td>\n",
       "    </tr>\n",
       "    <tr>\n",
       "      <th>2</th>\n",
       "      <td>NaN</td>\n",
       "      <td>2017/06/23</td>\n",
       "      <td>747</td>\n",
       "      <td>NaN</td>\n",
       "      <td>1964</td>\n",
       "      <td>br</td>\n",
       "    </tr>\n",
       "    <tr>\n",
       "      <th>3</th>\n",
       "      <td>F</td>\n",
       "      <td>2019/05/16</td>\n",
       "      <td>2204</td>\n",
       "      <td>NaN</td>\n",
       "      <td>2003</td>\n",
       "      <td>cz</td>\n",
       "    </tr>\n",
       "    <tr>\n",
       "      <th>4</th>\n",
       "      <td>NaN</td>\n",
       "      <td>2019/10/28</td>\n",
       "      <td>720</td>\n",
       "      <td>NaN</td>\n",
       "      <td>1964</td>\n",
       "      <td>br</td>\n",
       "    </tr>\n",
       "  </tbody>\n",
       "</table>\n",
       "</div>"
      ],
      "text/plain": [
       "   sex          registration  user_id race  birth_year country_code\n",
       "0    F  09/18/2020, 00:00:00      782  NaN        1965           cz\n",
       "1  NaN           14 May 2021     2158  NaN        1964           it\n",
       "2  NaN            2017/06/23      747  NaN        1964           br\n",
       "3    F            2019/05/16     2204  NaN        2003           cz\n",
       "4  NaN            2019/10/28      720  NaN        1964           br"
      ]
     },
     "execution_count": 192,
     "metadata": {},
     "output_type": "execute_result"
    }
   ],
   "source": [
    "user_reduced.head()"
   ]
  },
  {
   "cell_type": "code",
   "execution_count": 193,
   "id": "eb7278dc",
   "metadata": {},
   "outputs": [
    {
     "data": {
      "text/plain": [
       "array(['cz', 'it', 'br', 'com', 'de'], dtype=object)"
      ]
     },
     "execution_count": 193,
     "metadata": {},
     "output_type": "execute_result"
    }
   ],
   "source": [
    "#what counties do we have represented?\n",
    "user_reduced['country_code'].unique()"
   ]
  },
  {
   "cell_type": "code",
   "execution_count": 194,
   "id": "8b3d030f",
   "metadata": {},
   "outputs": [],
   "source": [
    "#now we create a county map\n",
    "country_mapping = {\n",
    "    'cz': 'Czechia',\n",
    "    'it': 'Italy',\n",
    "    'br': 'Brazil',\n",
    "    'com': 'Global',\n",
    "    'de': 'Germany',\n",
    "}\n",
    "\n",
    "#and insert the county to the table\n",
    "user_reduced['country'] = user_reduced['country_code'].map(country_mapping)\n",
    "user_reduced.drop(columns=['country_code'], inplace=True)"
   ]
  },
  {
   "cell_type": "code",
   "execution_count": 195,
   "id": "a73ef52a",
   "metadata": {},
   "outputs": [
    {
     "data": {
      "text/html": [
       "<div>\n",
       "<style scoped>\n",
       "    .dataframe tbody tr th:only-of-type {\n",
       "        vertical-align: middle;\n",
       "    }\n",
       "\n",
       "    .dataframe tbody tr th {\n",
       "        vertical-align: top;\n",
       "    }\n",
       "\n",
       "    .dataframe thead th {\n",
       "        text-align: right;\n",
       "    }\n",
       "</style>\n",
       "<table border=\"1\" class=\"dataframe\">\n",
       "  <thead>\n",
       "    <tr style=\"text-align: right;\">\n",
       "      <th></th>\n",
       "      <th>sex</th>\n",
       "      <th>registration</th>\n",
       "      <th>user_id</th>\n",
       "      <th>race</th>\n",
       "      <th>birth_year</th>\n",
       "      <th>country</th>\n",
       "    </tr>\n",
       "  </thead>\n",
       "  <tbody>\n",
       "    <tr>\n",
       "      <th>0</th>\n",
       "      <td>F</td>\n",
       "      <td>09/18/2020, 00:00:00</td>\n",
       "      <td>782</td>\n",
       "      <td>NaN</td>\n",
       "      <td>1965</td>\n",
       "      <td>Czechia</td>\n",
       "    </tr>\n",
       "    <tr>\n",
       "      <th>1</th>\n",
       "      <td>NaN</td>\n",
       "      <td>14 May 2021</td>\n",
       "      <td>2158</td>\n",
       "      <td>NaN</td>\n",
       "      <td>1964</td>\n",
       "      <td>Italy</td>\n",
       "    </tr>\n",
       "    <tr>\n",
       "      <th>2</th>\n",
       "      <td>NaN</td>\n",
       "      <td>2017/06/23</td>\n",
       "      <td>747</td>\n",
       "      <td>NaN</td>\n",
       "      <td>1964</td>\n",
       "      <td>Brazil</td>\n",
       "    </tr>\n",
       "    <tr>\n",
       "      <th>3</th>\n",
       "      <td>F</td>\n",
       "      <td>2019/05/16</td>\n",
       "      <td>2204</td>\n",
       "      <td>NaN</td>\n",
       "      <td>2003</td>\n",
       "      <td>Czechia</td>\n",
       "    </tr>\n",
       "    <tr>\n",
       "      <th>4</th>\n",
       "      <td>NaN</td>\n",
       "      <td>2019/10/28</td>\n",
       "      <td>720</td>\n",
       "      <td>NaN</td>\n",
       "      <td>1964</td>\n",
       "      <td>Brazil</td>\n",
       "    </tr>\n",
       "  </tbody>\n",
       "</table>\n",
       "</div>"
      ],
      "text/plain": [
       "   sex          registration  user_id race  birth_year  country\n",
       "0    F  09/18/2020, 00:00:00      782  NaN        1965  Czechia\n",
       "1  NaN           14 May 2021     2158  NaN        1964    Italy\n",
       "2  NaN            2017/06/23      747  NaN        1964   Brazil\n",
       "3    F            2019/05/16     2204  NaN        2003  Czechia\n",
       "4  NaN            2019/10/28      720  NaN        1964   Brazil"
      ]
     },
     "execution_count": 195,
     "metadata": {},
     "output_type": "execute_result"
    }
   ],
   "source": [
    "user_reduced.head()"
   ]
  },
  {
   "cell_type": "code",
   "execution_count": 196,
   "id": "d2a29992",
   "metadata": {},
   "outputs": [],
   "source": [
    "#let's continue and try to clen/fill the data about the race"
   ]
  },
  {
   "cell_type": "code",
   "execution_count": 197,
   "id": "14645308",
   "metadata": {},
   "outputs": [
    {
     "data": {
      "text/plain": [
       "array([nan, 'unspecified', 'black', 'asian', 'white', 'indian'],\n",
       "      dtype=object)"
      ]
     },
     "execution_count": 197,
     "metadata": {},
     "output_type": "execute_result"
    }
   ],
   "source": [
    "#what races do we have?\n",
    "user_reduced['race'].unique()"
   ]
  },
  {
   "cell_type": "code",
   "execution_count": 198,
   "id": "f68ad9c5",
   "metadata": {},
   "outputs": [
    {
     "data": {
      "text/html": [
       "<div>\n",
       "<style scoped>\n",
       "    .dataframe tbody tr th:only-of-type {\n",
       "        vertical-align: middle;\n",
       "    }\n",
       "\n",
       "    .dataframe tbody tr th {\n",
       "        vertical-align: top;\n",
       "    }\n",
       "\n",
       "    .dataframe thead th {\n",
       "        text-align: right;\n",
       "    }\n",
       "</style>\n",
       "<table border=\"1\" class=\"dataframe\">\n",
       "  <thead>\n",
       "    <tr style=\"text-align: right;\">\n",
       "      <th>race</th>\n",
       "      <th>asian</th>\n",
       "      <th>black</th>\n",
       "      <th>indian</th>\n",
       "      <th>white</th>\n",
       "    </tr>\n",
       "    <tr>\n",
       "      <th>country</th>\n",
       "      <th></th>\n",
       "      <th></th>\n",
       "      <th></th>\n",
       "      <th></th>\n",
       "    </tr>\n",
       "  </thead>\n",
       "  <tbody>\n",
       "    <tr>\n",
       "      <th>Brazil</th>\n",
       "      <td>14</td>\n",
       "      <td>20</td>\n",
       "      <td>9</td>\n",
       "      <td>30</td>\n",
       "    </tr>\n",
       "    <tr>\n",
       "      <th>Czechia</th>\n",
       "      <td>35</td>\n",
       "      <td>24</td>\n",
       "      <td>13</td>\n",
       "      <td>23</td>\n",
       "    </tr>\n",
       "    <tr>\n",
       "      <th>Germany</th>\n",
       "      <td>12</td>\n",
       "      <td>18</td>\n",
       "      <td>6</td>\n",
       "      <td>23</td>\n",
       "    </tr>\n",
       "    <tr>\n",
       "      <th>Global</th>\n",
       "      <td>85</td>\n",
       "      <td>75</td>\n",
       "      <td>33</td>\n",
       "      <td>99</td>\n",
       "    </tr>\n",
       "    <tr>\n",
       "      <th>Italy</th>\n",
       "      <td>15</td>\n",
       "      <td>14</td>\n",
       "      <td>5</td>\n",
       "      <td>18</td>\n",
       "    </tr>\n",
       "  </tbody>\n",
       "</table>\n",
       "</div>"
      ],
      "text/plain": [
       "race     asian  black  indian  white\n",
       "country                             \n",
       "Brazil      14     20       9     30\n",
       "Czechia     35     24      13     23\n",
       "Germany     12     18       6     23\n",
       "Global      85     75      33     99\n",
       "Italy       15     14       5     18"
      ]
     },
     "execution_count": 198,
     "metadata": {},
     "output_type": "execute_result"
    }
   ],
   "source": [
    "#which race is typical for what county?\n",
    "user_reduced['race'] = user_reduced['race'].replace('unspecified', np.nan)\n",
    "pivot_table = user_reduced.pivot_table(index='country', columns='race', aggfunc='size', fill_value=0)\n",
    "pivot_table"
   ]
  },
  {
   "cell_type": "code",
   "execution_count": 200,
   "id": "1b7ef737",
   "metadata": {},
   "outputs": [
    {
     "data": {
      "text/html": [
       "<div>\n",
       "<style scoped>\n",
       "    .dataframe tbody tr th:only-of-type {\n",
       "        vertical-align: middle;\n",
       "    }\n",
       "\n",
       "    .dataframe tbody tr th {\n",
       "        vertical-align: top;\n",
       "    }\n",
       "\n",
       "    .dataframe thead th {\n",
       "        text-align: right;\n",
       "    }\n",
       "</style>\n",
       "<table border=\"1\" class=\"dataframe\">\n",
       "  <thead>\n",
       "    <tr style=\"text-align: right;\">\n",
       "      <th></th>\n",
       "      <th>County</th>\n",
       "      <th>Race</th>\n",
       "    </tr>\n",
       "  </thead>\n",
       "  <tbody>\n",
       "    <tr>\n",
       "      <th>0</th>\n",
       "      <td>Brazil</td>\n",
       "      <td>white</td>\n",
       "    </tr>\n",
       "    <tr>\n",
       "      <th>1</th>\n",
       "      <td>Czechia</td>\n",
       "      <td>asian</td>\n",
       "    </tr>\n",
       "    <tr>\n",
       "      <th>2</th>\n",
       "      <td>Germany</td>\n",
       "      <td>white</td>\n",
       "    </tr>\n",
       "    <tr>\n",
       "      <th>3</th>\n",
       "      <td>Global</td>\n",
       "      <td>white</td>\n",
       "    </tr>\n",
       "    <tr>\n",
       "      <th>4</th>\n",
       "      <td>Italy</td>\n",
       "      <td>white</td>\n",
       "    </tr>\n",
       "  </tbody>\n",
       "</table>\n",
       "</div>"
      ],
      "text/plain": [
       "    County   Race\n",
       "0   Brazil  white\n",
       "1  Czechia  asian\n",
       "2  Germany  white\n",
       "3   Global  white\n",
       "4    Italy  white"
      ]
     },
     "execution_count": 200,
     "metadata": {},
     "output_type": "execute_result"
    }
   ],
   "source": [
    "most_frequent_race = pivot_table.idxmax(axis=1)\n",
    "\n",
    "result_df = pd.DataFrame({'County': most_frequent_race.index, 'Race': most_frequent_race.values})\n",
    "result_df"
   ]
  },
  {
   "cell_type": "code",
   "execution_count": 204,
   "id": "541f1c09",
   "metadata": {},
   "outputs": [],
   "source": [
    "#we create a couty-race mapping and fill in null values in 'race' column\n",
    "country_race_mapping = {\n",
    "    'Czechia': 'asian',\n",
    "    'Italy': 'white',\n",
    "    'Brazil': 'white',\n",
    "    'Global': 'white',\n",
    "    'Germany': 'white',\n",
    "}\n",
    "\n",
    "user_reduced['race'] = user_reduced['country'].map(country_race_mapping).fillna(user_reduced['race'])"
   ]
  },
  {
   "cell_type": "code",
   "execution_count": 205,
   "id": "539585fe",
   "metadata": {},
   "outputs": [
    {
     "data": {
      "text/html": [
       "<div>\n",
       "<style scoped>\n",
       "    .dataframe tbody tr th:only-of-type {\n",
       "        vertical-align: middle;\n",
       "    }\n",
       "\n",
       "    .dataframe tbody tr th {\n",
       "        vertical-align: top;\n",
       "    }\n",
       "\n",
       "    .dataframe thead th {\n",
       "        text-align: right;\n",
       "    }\n",
       "</style>\n",
       "<table border=\"1\" class=\"dataframe\">\n",
       "  <thead>\n",
       "    <tr style=\"text-align: right;\">\n",
       "      <th></th>\n",
       "      <th>sex</th>\n",
       "      <th>registration</th>\n",
       "      <th>user_id</th>\n",
       "      <th>race</th>\n",
       "      <th>birth_year</th>\n",
       "      <th>country</th>\n",
       "    </tr>\n",
       "  </thead>\n",
       "  <tbody>\n",
       "    <tr>\n",
       "      <th>0</th>\n",
       "      <td>F</td>\n",
       "      <td>09/18/2020, 00:00:00</td>\n",
       "      <td>782</td>\n",
       "      <td>asian</td>\n",
       "      <td>1965</td>\n",
       "      <td>Czechia</td>\n",
       "    </tr>\n",
       "    <tr>\n",
       "      <th>1</th>\n",
       "      <td>NaN</td>\n",
       "      <td>14 May 2021</td>\n",
       "      <td>2158</td>\n",
       "      <td>white</td>\n",
       "      <td>1964</td>\n",
       "      <td>Italy</td>\n",
       "    </tr>\n",
       "    <tr>\n",
       "      <th>2</th>\n",
       "      <td>NaN</td>\n",
       "      <td>2017/06/23</td>\n",
       "      <td>747</td>\n",
       "      <td>white</td>\n",
       "      <td>1964</td>\n",
       "      <td>Brazil</td>\n",
       "    </tr>\n",
       "    <tr>\n",
       "      <th>3</th>\n",
       "      <td>F</td>\n",
       "      <td>2019/05/16</td>\n",
       "      <td>2204</td>\n",
       "      <td>asian</td>\n",
       "      <td>2003</td>\n",
       "      <td>Czechia</td>\n",
       "    </tr>\n",
       "    <tr>\n",
       "      <th>4</th>\n",
       "      <td>NaN</td>\n",
       "      <td>2019/10/28</td>\n",
       "      <td>720</td>\n",
       "      <td>white</td>\n",
       "      <td>1964</td>\n",
       "      <td>Brazil</td>\n",
       "    </tr>\n",
       "  </tbody>\n",
       "</table>\n",
       "</div>"
      ],
      "text/plain": [
       "   sex          registration  user_id   race  birth_year  country\n",
       "0    F  09/18/2020, 00:00:00      782  asian        1965  Czechia\n",
       "1  NaN           14 May 2021     2158  white        1964    Italy\n",
       "2  NaN            2017/06/23      747  white        1964   Brazil\n",
       "3    F            2019/05/16     2204  asian        2003  Czechia\n",
       "4  NaN            2019/10/28      720  white        1964   Brazil"
      ]
     },
     "execution_count": 205,
     "metadata": {},
     "output_type": "execute_result"
    }
   ],
   "source": [
    "user_reduced.head()"
   ]
  },
  {
   "cell_type": "code",
   "execution_count": null,
   "id": "1bcaef9c",
   "metadata": {},
   "outputs": [],
   "source": [
    "#let's continue with the column 'registration'. We want to extract the year\n"
   ]
  }
 ],
 "metadata": {
  "kernelspec": {
   "display_name": "Python 3 (ipykernel)",
   "language": "python",
   "name": "python3"
  },
  "language_info": {
   "codemirror_mode": {
    "name": "ipython",
    "version": 3
   },
   "file_extension": ".py",
   "mimetype": "text/x-python",
   "name": "python",
   "nbconvert_exporter": "python",
   "pygments_lexer": "ipython3",
   "version": "3.7.9"
  }
 },
 "nbformat": 4,
 "nbformat_minor": 5
}
