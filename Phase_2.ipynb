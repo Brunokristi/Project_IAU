{
 "cells": [
  {
   "cell_type": "markdown",
   "metadata": {},
   "source": [
    "# IAU 2023/2024\n",
    "## **Autori:** Laura Fulajtárová (50%), Bruno Kristián (50%)"
   ]
  },
  {
   "cell_type": "markdown",
   "metadata": {},
   "source": [
    "# Fáza 2 - Predspracovanie údajov"
   ]
  },
  {
   "cell_type": "code",
   "execution_count": 484,
   "metadata": {},
   "outputs": [],
   "source": [
    "import pandas as pd\n",
    "import matplotlib\n",
    "import numpy as np\n",
    "import seaborn as sns\n",
    "import scipy.stats as stats\n",
    "from scipy.stats import chi2_contingency\n",
    "import matplotlib.pyplot as plt\n",
    "from scipy.stats import iqr\n",
    "import statsmodels.stats as sm_stats\n",
    "from sklearn import preprocessing\n",
    "import statsmodels.stats.api as sms\n",
    "import statsmodels.api as sm\n",
    "from scipy.stats import ttest_ind"
   ]
  },
  {
   "cell_type": "code",
   "execution_count": 485,
   "metadata": {},
   "outputs": [],
   "source": [
    "product = pd.read_csv(\"product_phase_1.csv\", sep='\\t')\n",
    "user = pd.read_csv(\"user_phase_1.csv\", sep='\\t')\n",
    "session = pd.read_csv(\"session_phase_1.csv\", sep='\\t')"
   ]
  },
  {
   "cell_type": "markdown",
   "metadata": {},
   "source": [
    "### Datasets merge"
   ]
  },
  {
   "cell_type": "code",
   "execution_count": 486,
   "metadata": {},
   "outputs": [
    {
     "name": "stdout",
     "output_type": "stream",
     "text": [
      "No common values found in 'product_ean'.\n"
     ]
    }
   ],
   "source": [
    "set1 = set(session['product_ean'])\n",
    "set2 = set(product['product_ean'])\n",
    "common_values = set1.intersection(set2)\n",
    "\n",
    "if common_values:\n",
    "    print(\"Common values found in 'product_ean'.\")\n",
    "else:\n",
    "    print(\"No common values found in 'product_ean'.\")"
   ]
  },
  {
   "cell_type": "markdown",
   "metadata": {},
   "source": [
    "Zistili sme, že datasety nevieme spojiť na základe stĺpca \"product_ean\", pretože sme nenašli žiadne spoločné hodnoty.  "
   ]
  },
  {
   "cell_type": "code",
   "execution_count": 487,
   "metadata": {},
   "outputs": [
    {
     "name": "stdout",
     "output_type": "stream",
     "text": [
      "Common values found in 'user_id'.\n"
     ]
    }
   ],
   "source": [
    "set1 = set(session['user_id'])\n",
    "set2 = set(user['old_user_id'])\n",
    "common_values = set1.intersection(set2)\n",
    "\n",
    "if common_values:\n",
    "    print(\"Common values found in 'user_id'.\")\n",
    "else:\n",
    "    print(\"No common values found in 'user_id'.\")"
   ]
  },
  {
   "cell_type": "markdown",
   "metadata": {},
   "source": [
    "Vedeli by sme spojiť datasety na základe stĺpca \"user_id\" a \"old_user_id\". Tieto dva stĺpce sú v oboch datasetoch a majú spoločné hodnoty. "
   ]
  },
  {
   "cell_type": "code",
   "execution_count": 488,
   "metadata": {},
   "outputs": [],
   "source": [
    "user.rename(columns={'user_id': 'new_user_id', 'old_user_id': 'user_id'}, inplace=True)"
   ]
  },
  {
   "cell_type": "code",
   "execution_count": 489,
   "metadata": {},
   "outputs": [],
   "source": [
    "merged_data= pd.merge(user, session, on='user_id', how='inner')"
   ]
  },
  {
   "cell_type": "markdown",
   "metadata": {},
   "source": [
    "Spojili sme datasety na základe stĺpa \"user_id\". Použili sme funkciu merge z knižnice pandas s parametrom how = \"inner\". \n",
    "\n",
    "Vznikol nám nový dataset, ktorý obsahuje všetky stĺpce z oboch datasetov."
   ]
  },
  {
   "cell_type": "markdown",
   "metadata": {},
   "source": [
    "### Nahradenie chýbajúcich hodnôt"
   ]
  },
  {
   "cell_type": "code",
   "execution_count": 490,
   "metadata": {},
   "outputs": [
    {
     "data": {
      "text/plain": [
       "birthdate                         4929\n",
       "sex                               5497\n",
       "registration                         0\n",
       "new_user_id                          0\n",
       "race                              7732\n",
       "user_id                              0\n",
       "pct_mouse_click                     19\n",
       "pct_scroll_move                     13\n",
       "pct_doubleclick                     10\n",
       "pct_input                            8\n",
       "session_start                        0\n",
       "page_activity_duration              14\n",
       "ack                                  0\n",
       "pct_click                           17\n",
       "pct_mouse_move                      10\n",
       "browser_name                         0\n",
       "pct_scrandom                         6\n",
       "pct_scroll_move_duration            10\n",
       "mouse_move_total_rel_distance       16\n",
       "product_ean                          0\n",
       "pct_rage_click                      16\n",
       "pct_wild_mouse                      20\n",
       "session_duration                     0\n",
       "wild_mouse_duration                 14\n",
       "session_id                           0\n",
       "pct_click_product_info               8\n",
       "scroll_move_total_rel_distance       3\n",
       "total_load_time                      0\n",
       "screen_width                         0\n",
       "screen_height                        0\n",
       "dtype: int64"
      ]
     },
     "execution_count": 490,
     "metadata": {},
     "output_type": "execute_result"
    }
   ],
   "source": [
    "merged_data.isnull().sum()"
   ]
  },
  {
   "cell_type": "code",
   "execution_count": 491,
   "metadata": {},
   "outputs": [],
   "source": [
    "def custom_imputer(column_with_nulls, desired_distribution):\n",
    "    # Calculate the number of null values to fill\n",
    "    total_count = len(column_with_nulls)\n",
    "    num_nulls_to_fill = column_with_nulls.isnull().sum()\n",
    "\n",
    "    # Calculate the number of occurrences for each race value\n",
    "    counts = {value: int((percentage / 100) * total_count) for value, percentage in desired_distribution.items()}\n",
    "\n",
    "    # Generate a list of race values to fill nulls\n",
    "    list_of_values = []\n",
    "    for value, count in counts.items():\n",
    "        list_of_values.extend([value] * count)\n",
    "\n",
    "    # Randomly shuffle the list to maintain the distribution\n",
    "    np.random.shuffle(list_of_values)\n",
    "\n",
    "    # Fill null values with the shuffled race values\n",
    "    column_with_nulls[column_with_nulls.isnull()] = list_of_values[:num_nulls_to_fill]"
   ]
  },
  {
   "cell_type": "markdown",
   "metadata": {},
   "source": [
    "V prvej fáze projektu sme zistili percentuále zastúpenie pohlaví, a teraz nahradíme chýbajúce hdnoty v tom pomere"
   ]
  },
  {
   "cell_type": "code",
   "execution_count": 492,
   "metadata": {},
   "outputs": [],
   "source": [
    "merged_data['race'] = merged_data['race'].replace('unspecified', np.nan)\n"
   ]
  },
  {
   "cell_type": "code",
   "execution_count": 493,
   "metadata": {},
   "outputs": [],
   "source": [
    "import random\n",
    "\n",
    "merged_data_imputed = merged_data.copy()\n",
    "\n",
    "sex_percentages_dict = {'M': 48.9, 'F': 51.1}\n",
    "\n",
    "subset = merged_data_imputed['sex'].copy()\n",
    "custom_imputer(subset, sex_percentages_dict)\n",
    "merged_data_imputed['sex'] = subset"
   ]
  },
  {
   "cell_type": "markdown",
   "metadata": {},
   "source": [
    "To isté prevedieme aj s rasou"
   ]
  },
  {
   "cell_type": "code",
   "execution_count": 494,
   "metadata": {},
   "outputs": [
    {
     "name": "stdout",
     "output_type": "stream",
     "text": [
      "{'white': 33.67875647668394, 'asian': 28.098844161020324, 'black': 26.145874850538064, 'indian': 12.076524511757672}\n"
     ]
    }
   ],
   "source": [
    "race_percentages_dict = (merged_data['race'].value_counts(normalize=True) * 100).to_dict()\n",
    "print(race_percentages_dict)\n",
    "\n",
    "subset = merged_data_imputed['race'].copy()\n",
    "custom_imputer(subset, race_percentages_dict)\n",
    "merged_data_imputed['race'] = subset"
   ]
  },
  {
   "cell_type": "markdown",
   "metadata": {},
   "source": [
    "Pomocou kNN algoritmu doplníme hodnoty v stĺpci \"pct_mouse_click\""
   ]
  },
  {
   "cell_type": "code",
   "execution_count": 495,
   "metadata": {},
   "outputs": [],
   "source": [
    "from sklearn.impute import KNNImputer\n",
    "\n",
    "knn_imputer = KNNImputer(n_neighbors=5)\n",
    "\n",
    "merged_data_imputed['pct_mouse_click'] = knn_imputer.fit_transform(merged_data_imputed[['pct_mouse_click']])\n"
   ]
  },
  {
   "cell_type": "markdown",
   "metadata": {},
   "source": [
    "všetky chýbajúce hodnoty okrem dátumu narodenia nahradíme priemerom"
   ]
  },
  {
   "cell_type": "code",
   "execution_count": 496,
   "metadata": {},
   "outputs": [],
   "source": [
    "from sklearn.impute import SimpleImputer\n",
    "\n",
    "# Define a list of numeric column names\n",
    "numeric_columns = [\n",
    "    'pct_scroll_move', \n",
    "    'pct_doubleclick', \n",
    "    'pct_input', \n",
    "    'page_activity_duration', \n",
    "    'pct_click',\n",
    "    'pct_mouse_move',\n",
    "    'pct_scrandom', \n",
    "    'pct_scroll_move_duration', \n",
    "    'mouse_move_total_rel_distance',\n",
    "    'pct_rage_click',\n",
    "    'pct_wild_mouse', \n",
    "    'wild_mouse_duration', \n",
    "    'pct_click_product_info', \n",
    "    'scroll_move_total_rel_distance'\n",
    "]\n",
    "\n",
    "# Create a SimpleImputer instance and impute missing values with the mean for numeric columns\n",
    "imputer = SimpleImputer(strategy='mean')\n",
    "merged_data_imputed[numeric_columns] = imputer.fit_transform(merged_data_imputed[numeric_columns])\n"
   ]
  },
  {
   "cell_type": "markdown",
   "metadata": {},
   "source": [
    "riadky s prázdnymi hodnotami odstránime"
   ]
  },
  {
   "cell_type": "code",
   "execution_count": 497,
   "metadata": {},
   "outputs": [],
   "source": [
    "merged_data_imputed.dropna(inplace=True)"
   ]
  },
  {
   "cell_type": "markdown",
   "metadata": {},
   "source": [
    "overíme, či sa nám datasety po nahradení hodnôt výrazne nezmenili   "
   ]
  },
  {
   "cell_type": "code",
   "execution_count": 498,
   "metadata": {},
   "outputs": [
    {
     "name": "stdout",
     "output_type": "stream",
     "text": [
      "                            Column Similarity\n",
      "0                        birthdate    Similar\n",
      "1                              sex    Similar\n",
      "2                     registration    Similar\n",
      "3                      new_user_id    Similar\n",
      "4                             race    Similar\n",
      "5                          user_id    Similar\n",
      "6                  pct_mouse_click    Similar\n",
      "7                  pct_scroll_move    Similar\n",
      "8                  pct_doubleclick    Similar\n",
      "9                        pct_input    Similar\n",
      "10                   session_start    Similar\n",
      "11          page_activity_duration    Similar\n",
      "12                             ack    Similar\n",
      "13                       pct_click    Similar\n",
      "14                  pct_mouse_move    Similar\n",
      "15                    browser_name    Similar\n",
      "16                    pct_scrandom    Similar\n",
      "17        pct_scroll_move_duration    Similar\n",
      "18   mouse_move_total_rel_distance    Similar\n",
      "19                     product_ean    Similar\n",
      "20                  pct_rage_click    Similar\n",
      "21                  pct_wild_mouse    Similar\n",
      "22                session_duration    Similar\n",
      "23             wild_mouse_duration    Similar\n",
      "24                      session_id    Similar\n",
      "25          pct_click_product_info    Similar\n",
      "26  scroll_move_total_rel_distance    Similar\n",
      "27                 total_load_time    Similar\n",
      "28                    screen_width    Similar\n",
      "29                   screen_height    Similar\n"
     ]
    }
   ],
   "source": [
    "from scipy.stats import ks_2samp\n",
    "\n",
    "result_table = pd.DataFrame(columns=['Column', 'Similarity'])\n",
    "\n",
    "for column in merged_data_imputed.columns:    \n",
    "    \"\"\" # Visual comparison - histograms\n",
    "    plt.figure(figsize=(12, 4))\n",
    "    plt.subplot(1, 2, 1)\n",
    "    plt.hist(merged_data[column].dropna(), bins=10, alpha=0.6, color='b', label='Original')\n",
    "    plt.title(f'Histogram - {column} Before Imputation')\n",
    "    \n",
    "    plt.subplot(1, 2, 2)\n",
    "    plt.hist(merged_data_imputed[column], bins=10, alpha=0.6, color='g', label='Imputed')\n",
    "    plt.title(f'Histogram - {column} After Imputation')\n",
    "    \n",
    "    plt.show() \"\"\"\n",
    "    \n",
    "\n",
    "    # Statistical test - Kolmogorov-Smirnov test\n",
    "    ks_stat, p_value = ks_2samp(merged_data[column].dropna(), merged_data_imputed[column])\n",
    "    alpha = 0.05\n",
    "    if p_value < alpha:\n",
    "        similarity = \"Not Similar\"\n",
    "    else:\n",
    "        similarity = \"Similar\"\n",
    "    \n",
    "    result_table = result_table.append({'Column': column, 'Similarity': similarity}, ignore_index=True)\n",
    "\n",
    "print(result_table)\n"
   ]
  },
  {
   "cell_type": "markdown",
   "metadata": {},
   "source": [
    "#### Vyplnili sme chybajúce údaje, tak aby sa ich distribúcia podobala distribúcii pôvodných dát"
   ]
  },
  {
   "cell_type": "markdown",
   "metadata": {},
   "source": [
    "### Premena atribútov na numerické hodnoty"
   ]
  },
  {
   "cell_type": "code",
   "execution_count": 499,
   "metadata": {},
   "outputs": [
    {
     "data": {
      "text/plain": [
       "birthdate                          object\n",
       "sex                                object\n",
       "registration                       object\n",
       "new_user_id                         int64\n",
       "race                               object\n",
       "user_id                             int64\n",
       "pct_mouse_click                   float64\n",
       "pct_scroll_move                   float64\n",
       "pct_doubleclick                   float64\n",
       "pct_input                         float64\n",
       "session_start                      object\n",
       "page_activity_duration            float64\n",
       "ack                               float64\n",
       "pct_click                         float64\n",
       "pct_mouse_move                    float64\n",
       "browser_name                       object\n",
       "pct_scrandom                      float64\n",
       "pct_scroll_move_duration          float64\n",
       "mouse_move_total_rel_distance     float64\n",
       "product_ean                         int64\n",
       "pct_rage_click                    float64\n",
       "pct_wild_mouse                    float64\n",
       "session_duration                  float64\n",
       "wild_mouse_duration               float64\n",
       "session_id                          int64\n",
       "pct_click_product_info            float64\n",
       "scroll_move_total_rel_distance    float64\n",
       "total_load_time                   float64\n",
       "screen_width                        int64\n",
       "screen_height                       int64\n",
       "dtype: object"
      ]
     },
     "execution_count": 499,
     "metadata": {},
     "output_type": "execute_result"
    }
   ],
   "source": [
    "merged_data_imputed.dtypes"
   ]
  },
  {
   "cell_type": "markdown",
   "metadata": {},
   "source": [
    "dátumy v stĺpeci \"birthdate\" premeníme na čísla"
   ]
  },
  {
   "cell_type": "code",
   "execution_count": 500,
   "metadata": {},
   "outputs": [],
   "source": [
    "merged_data_imputed['birthdate'] = pd.to_datetime(merged_data_imputed['birthdate'], errors='coerce')\n",
    "merged_data_imputed['numeric_birthdate'] = merged_data_imputed['birthdate'].dt.strftime('%Y%m%d').astype(float)\n",
    "\n",
    "merged_data_imputed.drop('birthdate', axis=1, inplace=True)\n",
    "merged_data_imputed.rename(columns={'numeric_birthdate': 'birthdate'}, inplace=True)"
   ]
  },
  {
   "cell_type": "markdown",
   "metadata": {},
   "source": [
    "premeníme stĺpec \"sex\" \" na čísla "
   ]
  },
  {
   "cell_type": "code",
   "execution_count": 501,
   "metadata": {},
   "outputs": [
    {
     "data": {
      "text/plain": [
       "array(['F', 'M'], dtype=object)"
      ]
     },
     "execution_count": 501,
     "metadata": {},
     "output_type": "execute_result"
    }
   ],
   "source": [
    "merged_data_imputed['sex'].unique()"
   ]
  },
  {
   "cell_type": "code",
   "execution_count": 502,
   "metadata": {},
   "outputs": [],
   "source": [
    "import category_encoders as ce\n",
    "\n",
    "ce_binary = ce.BinaryEncoder(cols=['sex'])\n",
    "\n",
    "# Fit and transform and store the encoded data back in the DataFrame\n",
    "merged_data_imputed = ce_binary.fit_transform(merged_data_imputed)"
   ]
  },
  {
   "cell_type": "markdown",
   "metadata": {},
   "source": [
    "premeníme stĺpec \"registration\" na čísla"
   ]
  },
  {
   "cell_type": "code",
   "execution_count": 503,
   "metadata": {},
   "outputs": [],
   "source": [
    "merged_data_imputed['registration'] = pd.to_datetime(merged_data_imputed['registration'], errors='coerce')\n",
    "merged_data_imputed['numeric_registration'] = merged_data_imputed['registration'].dt.strftime('%Y%m%d').astype(float)\n",
    "\n",
    "merged_data_imputed.drop('registration', axis=1, inplace=True)\n",
    "merged_data_imputed.rename(columns={'numeric_registration': 'registration'}, inplace=True)"
   ]
  },
  {
   "cell_type": "markdown",
   "metadata": {},
   "source": [
    "premeníme stĺpec \"session_start\" na čísla"
   ]
  },
  {
   "cell_type": "code",
   "execution_count": 504,
   "metadata": {},
   "outputs": [
    {
     "data": {
      "text/plain": [
       "0    2019-10-10 18:14:44\n",
       "4    2019-05-27 00:51:40\n",
       "5    2023-05-27 22:53:57\n",
       "6    2019-05-27 00:51:40\n",
       "7    2023-05-27 22:53:57\n",
       "Name: session_start, dtype: object"
      ]
     },
     "execution_count": 504,
     "metadata": {},
     "output_type": "execute_result"
    }
   ],
   "source": [
    "merged_data_imputed['session_start'].head()"
   ]
  },
  {
   "cell_type": "code",
   "execution_count": 505,
   "metadata": {},
   "outputs": [],
   "source": [
    "merged_data_imputed['session_start'] = pd.to_datetime(merged_data_imputed['session_start'])\n",
    "merged_data_imputed['timestamp'] = (merged_data_imputed['session_start'] - pd.Timestamp(\"1970-01-01\")) // pd.Timedelta(seconds=1)\n",
    "merged_data_imputed['numeric_session_start'] = merged_data_imputed['timestamp'].astype(int)\n",
    "\n",
    "merged_data_imputed.drop('session_start', axis=1, inplace=True)\n",
    "merged_data_imputed.rename(columns={'numeric_session_start': 'session_start'}, inplace=True)"
   ]
  },
  {
   "cell_type": "markdown",
   "metadata": {},
   "source": [
    "premeníme stĺpec \"browser_name\" na čísla"
   ]
  },
  {
   "cell_type": "code",
   "execution_count": 506,
   "metadata": {},
   "outputs": [
    {
     "data": {
      "text/plain": [
       "array(['opera', 'safari', 'firefox', 'mobile', 'edge', 'chrome', 'other'],\n",
       "      dtype=object)"
      ]
     },
     "execution_count": 506,
     "metadata": {},
     "output_type": "execute_result"
    }
   ],
   "source": [
    "merged_data_imputed[\"browser_name\"].unique()"
   ]
  },
  {
   "cell_type": "code",
   "execution_count": 507,
   "metadata": {},
   "outputs": [],
   "source": [
    "ce_HE = ce.HashingEncoder(cols=['browser_name'],n_components=5)\n",
    "\n",
    "# fit and transform and you will get the encoded data\n",
    "merged_data_imputed = ce_HE.fit_transform(merged_data_imputed)"
   ]
  },
  {
   "cell_type": "markdown",
   "metadata": {},
   "source": [
    "premeníme stĺpec \"race\" na číselné hodnoty"
   ]
  },
  {
   "cell_type": "code",
   "execution_count": 508,
   "metadata": {},
   "outputs": [
    {
     "data": {
      "text/plain": [
       "array(['asian', 'black', 'white', 'indian'], dtype=object)"
      ]
     },
     "execution_count": 508,
     "metadata": {},
     "output_type": "execute_result"
    }
   ],
   "source": [
    "merged_data_imputed[\"race\"].unique()"
   ]
  },
  {
   "cell_type": "code",
   "execution_count": 509,
   "metadata": {},
   "outputs": [],
   "source": [
    "ce_binary = ce.BinaryEncoder(cols = ['race'])\n",
    "\n",
    "# fit and transform and you will get the encoded data\n",
    "merged_data_imputed = ce_binary.fit_transform(merged_data_imputed)"
   ]
  },
  {
   "cell_type": "code",
   "execution_count": 510,
   "metadata": {},
   "outputs": [
    {
     "data": {
      "text/html": [
       "<div>\n",
       "<style scoped>\n",
       "    .dataframe tbody tr th:only-of-type {\n",
       "        vertical-align: middle;\n",
       "    }\n",
       "\n",
       "    .dataframe tbody tr th {\n",
       "        vertical-align: top;\n",
       "    }\n",
       "\n",
       "    .dataframe thead th {\n",
       "        text-align: right;\n",
       "    }\n",
       "</style>\n",
       "<table border=\"1\" class=\"dataframe\">\n",
       "  <thead>\n",
       "    <tr style=\"text-align: right;\">\n",
       "      <th></th>\n",
       "      <th>col_0</th>\n",
       "      <th>col_1</th>\n",
       "      <th>col_2</th>\n",
       "      <th>col_3</th>\n",
       "      <th>col_4</th>\n",
       "      <th>sex_0</th>\n",
       "      <th>sex_1</th>\n",
       "      <th>new_user_id</th>\n",
       "      <th>race_0</th>\n",
       "      <th>race_1</th>\n",
       "      <th>...</th>\n",
       "      <th>session_id</th>\n",
       "      <th>pct_click_product_info</th>\n",
       "      <th>scroll_move_total_rel_distance</th>\n",
       "      <th>total_load_time</th>\n",
       "      <th>screen_width</th>\n",
       "      <th>screen_height</th>\n",
       "      <th>birthdate</th>\n",
       "      <th>registration</th>\n",
       "      <th>timestamp</th>\n",
       "      <th>session_start</th>\n",
       "    </tr>\n",
       "  </thead>\n",
       "  <tbody>\n",
       "    <tr>\n",
       "      <th>0</th>\n",
       "      <td>0</td>\n",
       "      <td>0</td>\n",
       "      <td>1</td>\n",
       "      <td>0</td>\n",
       "      <td>0</td>\n",
       "      <td>0</td>\n",
       "      <td>1</td>\n",
       "      <td>782</td>\n",
       "      <td>0</td>\n",
       "      <td>0</td>\n",
       "      <td>...</td>\n",
       "      <td>849729</td>\n",
       "      <td>23.91551</td>\n",
       "      <td>15.12649</td>\n",
       "      <td>7.79057</td>\n",
       "      <td>1280</td>\n",
       "      <td>1080</td>\n",
       "      <td>19650808.0</td>\n",
       "      <td>20200918.0</td>\n",
       "      <td>1570731284</td>\n",
       "      <td>1570731284</td>\n",
       "    </tr>\n",
       "    <tr>\n",
       "      <th>4</th>\n",
       "      <td>0</td>\n",
       "      <td>1</td>\n",
       "      <td>0</td>\n",
       "      <td>0</td>\n",
       "      <td>0</td>\n",
       "      <td>0</td>\n",
       "      <td>1</td>\n",
       "      <td>2605</td>\n",
       "      <td>0</td>\n",
       "      <td>0</td>\n",
       "      <td>...</td>\n",
       "      <td>781312</td>\n",
       "      <td>47.54284</td>\n",
       "      <td>14.08687</td>\n",
       "      <td>4.86658</td>\n",
       "      <td>1920</td>\n",
       "      <td>1080</td>\n",
       "      <td>19390123.0</td>\n",
       "      <td>20190605.0</td>\n",
       "      <td>1558918300</td>\n",
       "      <td>1558918300</td>\n",
       "    </tr>\n",
       "    <tr>\n",
       "      <th>5</th>\n",
       "      <td>0</td>\n",
       "      <td>0</td>\n",
       "      <td>1</td>\n",
       "      <td>0</td>\n",
       "      <td>0</td>\n",
       "      <td>0</td>\n",
       "      <td>1</td>\n",
       "      <td>2605</td>\n",
       "      <td>0</td>\n",
       "      <td>0</td>\n",
       "      <td>...</td>\n",
       "      <td>829814</td>\n",
       "      <td>59.59391</td>\n",
       "      <td>13.40058</td>\n",
       "      <td>2.31779</td>\n",
       "      <td>1024</td>\n",
       "      <td>768</td>\n",
       "      <td>19390123.0</td>\n",
       "      <td>20190605.0</td>\n",
       "      <td>1685228037</td>\n",
       "      <td>1685228037</td>\n",
       "    </tr>\n",
       "    <tr>\n",
       "      <th>6</th>\n",
       "      <td>0</td>\n",
       "      <td>1</td>\n",
       "      <td>0</td>\n",
       "      <td>0</td>\n",
       "      <td>0</td>\n",
       "      <td>0</td>\n",
       "      <td>1</td>\n",
       "      <td>2675</td>\n",
       "      <td>0</td>\n",
       "      <td>1</td>\n",
       "      <td>...</td>\n",
       "      <td>781312</td>\n",
       "      <td>47.54284</td>\n",
       "      <td>14.08687</td>\n",
       "      <td>4.86658</td>\n",
       "      <td>1920</td>\n",
       "      <td>1080</td>\n",
       "      <td>20140911.0</td>\n",
       "      <td>20181023.0</td>\n",
       "      <td>1558918300</td>\n",
       "      <td>1558918300</td>\n",
       "    </tr>\n",
       "    <tr>\n",
       "      <th>7</th>\n",
       "      <td>0</td>\n",
       "      <td>0</td>\n",
       "      <td>1</td>\n",
       "      <td>0</td>\n",
       "      <td>0</td>\n",
       "      <td>0</td>\n",
       "      <td>1</td>\n",
       "      <td>2675</td>\n",
       "      <td>0</td>\n",
       "      <td>0</td>\n",
       "      <td>...</td>\n",
       "      <td>829814</td>\n",
       "      <td>59.59391</td>\n",
       "      <td>13.40058</td>\n",
       "      <td>2.31779</td>\n",
       "      <td>1024</td>\n",
       "      <td>768</td>\n",
       "      <td>20140911.0</td>\n",
       "      <td>20181023.0</td>\n",
       "      <td>1685228037</td>\n",
       "      <td>1685228037</td>\n",
       "    </tr>\n",
       "  </tbody>\n",
       "</table>\n",
       "<p>5 rows × 38 columns</p>\n",
       "</div>"
      ],
      "text/plain": [
       "   col_0  col_1  col_2  col_3  col_4  sex_0  sex_1  new_user_id  race_0  \\\n",
       "0      0      0      1      0      0      0      1          782       0   \n",
       "4      0      1      0      0      0      0      1         2605       0   \n",
       "5      0      0      1      0      0      0      1         2605       0   \n",
       "6      0      1      0      0      0      0      1         2675       0   \n",
       "7      0      0      1      0      0      0      1         2675       0   \n",
       "\n",
       "   race_1  ...  session_id  pct_click_product_info  \\\n",
       "0       0  ...      849729                23.91551   \n",
       "4       0  ...      781312                47.54284   \n",
       "5       0  ...      829814                59.59391   \n",
       "6       1  ...      781312                47.54284   \n",
       "7       0  ...      829814                59.59391   \n",
       "\n",
       "   scroll_move_total_rel_distance  total_load_time  screen_width  \\\n",
       "0                        15.12649          7.79057          1280   \n",
       "4                        14.08687          4.86658          1920   \n",
       "5                        13.40058          2.31779          1024   \n",
       "6                        14.08687          4.86658          1920   \n",
       "7                        13.40058          2.31779          1024   \n",
       "\n",
       "   screen_height   birthdate  registration   timestamp  session_start  \n",
       "0           1080  19650808.0    20200918.0  1570731284     1570731284  \n",
       "4           1080  19390123.0    20190605.0  1558918300     1558918300  \n",
       "5            768  19390123.0    20190605.0  1685228037     1685228037  \n",
       "6           1080  20140911.0    20181023.0  1558918300     1558918300  \n",
       "7            768  20140911.0    20181023.0  1685228037     1685228037  \n",
       "\n",
       "[5 rows x 38 columns]"
      ]
     },
     "execution_count": 510,
     "metadata": {},
     "output_type": "execute_result"
    }
   ],
   "source": [
    "merged_data_imputed.head()"
   ]
  },
  {
   "cell_type": "code",
   "execution_count": 511,
   "metadata": {},
   "outputs": [
    {
     "data": {
      "text/plain": [
       "col_0                               int64\n",
       "col_1                               int64\n",
       "col_2                               int64\n",
       "col_3                               int64\n",
       "col_4                               int64\n",
       "sex_0                               int64\n",
       "sex_1                               int64\n",
       "new_user_id                         int64\n",
       "race_0                              int64\n",
       "race_1                              int64\n",
       "race_2                              int64\n",
       "user_id                             int64\n",
       "pct_mouse_click                   float64\n",
       "pct_scroll_move                   float64\n",
       "pct_doubleclick                   float64\n",
       "pct_input                         float64\n",
       "page_activity_duration            float64\n",
       "ack                               float64\n",
       "pct_click                         float64\n",
       "pct_mouse_move                    float64\n",
       "pct_scrandom                      float64\n",
       "pct_scroll_move_duration          float64\n",
       "mouse_move_total_rel_distance     float64\n",
       "product_ean                         int64\n",
       "pct_rage_click                    float64\n",
       "pct_wild_mouse                    float64\n",
       "session_duration                  float64\n",
       "wild_mouse_duration               float64\n",
       "session_id                          int64\n",
       "pct_click_product_info            float64\n",
       "scroll_move_total_rel_distance    float64\n",
       "total_load_time                   float64\n",
       "screen_width                        int64\n",
       "screen_height                       int64\n",
       "birthdate                         float64\n",
       "registration                      float64\n",
       "timestamp                           int64\n",
       "session_start                       int32\n",
       "dtype: object"
      ]
     },
     "execution_count": 511,
     "metadata": {},
     "output_type": "execute_result"
    }
   ],
   "source": [
    "merged_data_imputed.dtypes"
   ]
  },
  {
   "cell_type": "code",
   "execution_count": 512,
   "metadata": {},
   "outputs": [
    {
     "data": {
      "text/plain": [
       "\" column_order = ['birthdate', \\n                'sex', \\n                'registration',\\n                'new_user_id',\\n                'race',\\n                'user_id',\\n                'pct_mouse_click',\\n                'pct_scroll_move',\\n                'pct_doubleclick',\\n                'pct_input',\\n                'session_start',\\n                'page_activity_duration',\\n                'ack',\\n                'pct_click',\\n                'pct_mouse_move',\\n                'browser_name',\\n                'pct_scrandom',\\n                'pct_scroll_move_duration',\\n                'mouse_move_total_rel_distance',\\n                'product_ean',\\n                'pct_rage_click',\\n                'pct_wild_mouse',\\n                'session_duration',\\n                'wild_mouse_duration',\\n                'session_id',\\n                'pct_click_product_info',\\n                'scroll_move_total_rel_distance',\\n                'total_load_time',\\n                'screen_width',\\n                'screen_height',\\n                ]\\nmerged_data_imputed = merged_data_imputed[column_order] \""
      ]
     },
     "execution_count": 512,
     "metadata": {},
     "output_type": "execute_result"
    }
   ],
   "source": [
    "\"\"\" column_order = ['birthdate', \n",
    "                'sex', \n",
    "                'registration',\n",
    "                'new_user_id',\n",
    "                'race',\n",
    "                'user_id',\n",
    "                'pct_mouse_click',\n",
    "                'pct_scroll_move',\n",
    "                'pct_doubleclick',\n",
    "                'pct_input',\n",
    "                'session_start',\n",
    "                'page_activity_duration',\n",
    "                'ack',\n",
    "                'pct_click',\n",
    "                'pct_mouse_move',\n",
    "                'browser_name',\n",
    "                'pct_scrandom',\n",
    "                'pct_scroll_move_duration',\n",
    "                'mouse_move_total_rel_distance',\n",
    "                'product_ean',\n",
    "                'pct_rage_click',\n",
    "                'pct_wild_mouse',\n",
    "                'session_duration',\n",
    "                'wild_mouse_duration',\n",
    "                'session_id',\n",
    "                'pct_click_product_info',\n",
    "                'scroll_move_total_rel_distance',\n",
    "                'total_load_time',\n",
    "                'screen_width',\n",
    "                'screen_height',\n",
    "                ]\n",
    "merged_data_imputed = merged_data_imputed[column_order] \"\"\"\n",
    "\n"
   ]
  },
  {
   "cell_type": "markdown",
   "metadata": {},
   "source": [
    "### Odstránenie vyhchýlených hodnôt"
   ]
  },
  {
   "cell_type": "code",
   "execution_count": 513,
   "metadata": {},
   "outputs": [
    {
     "name": "stdout",
     "output_type": "stream",
     "text": [
      "col_0                             0\n",
      "col_1                             0\n",
      "col_2                             0\n",
      "col_3                             0\n",
      "col_4                             0\n",
      "sex_0                             0\n",
      "sex_1                             0\n",
      "new_user_id                       0\n",
      "race_0                            0\n",
      "race_1                            0\n",
      "race_2                            0\n",
      "user_id                           0\n",
      "pct_mouse_click                   0\n",
      "pct_scroll_move                   0\n",
      "pct_doubleclick                   0\n",
      "pct_input                         0\n",
      "page_activity_duration            0\n",
      "ack                               0\n",
      "pct_click                         0\n",
      "pct_mouse_move                    0\n",
      "pct_scrandom                      0\n",
      "pct_scroll_move_duration          0\n",
      "mouse_move_total_rel_distance     0\n",
      "product_ean                       0\n",
      "pct_rage_click                    0\n",
      "pct_wild_mouse                    0\n",
      "session_duration                  0\n",
      "wild_mouse_duration               0\n",
      "session_id                        0\n",
      "pct_click_product_info            0\n",
      "scroll_move_total_rel_distance    0\n",
      "total_load_time                   0\n",
      "screen_width                      0\n",
      "screen_height                     0\n",
      "birthdate                         0\n",
      "registration                      0\n",
      "timestamp                         0\n",
      "session_start                     0\n",
      "dtype: int64\n"
     ]
    }
   ],
   "source": [
    "null_counts = merged_data_imputed.isnull().sum()\n",
    "print(null_counts)"
   ]
  },
  {
   "cell_type": "markdown",
   "metadata": {},
   "source": [
    "Vo všetkých stĺpcoch máme každé pole vyplnené\n",
    "\n",
    "pozrieme sa, ktoré atribúty sú distribuované normálne a ktoré nie"
   ]
  },
  {
   "cell_type": "code",
   "execution_count": 514,
   "metadata": {},
   "outputs": [
    {
     "name": "stdout",
     "output_type": "stream",
     "text": [
      "                               statistic   p-value   normality\n",
      "col_0                                1.0       1.0      Normal\n",
      "col_1                           0.339296       0.0  Not Normal\n",
      "col_2                           0.431048       0.0  Not Normal\n",
      "col_3                           0.579349       0.0  Not Normal\n",
      "col_4                           0.631748       0.0  Not Normal\n",
      "sex_0                           0.636613       0.0  Not Normal\n",
      "sex_1                           0.636641       0.0  Not Normal\n",
      "new_user_id                     0.939052       0.0  Not Normal\n",
      "race_0                           0.38521       0.0  Not Normal\n",
      "race_1                          0.620116       0.0  Not Normal\n",
      "race_2                          0.618209       0.0  Not Normal\n",
      "user_id                         0.950933       0.0  Not Normal\n",
      "pct_mouse_click                 0.987207       0.0  Not Normal\n",
      "pct_scroll_move                 0.999634  0.325263      Normal\n",
      "pct_doubleclick                 0.960784       0.0  Not Normal\n",
      "pct_input                       0.329629       0.0  Not Normal\n",
      "page_activity_duration           0.97085       0.0  Not Normal\n",
      "ack                             0.634085       0.0  Not Normal\n",
      "pct_click                       0.983001       0.0  Not Normal\n",
      "pct_mouse_move                  0.983761       0.0  Not Normal\n",
      "pct_scrandom                    0.999697  0.517482      Normal\n",
      "pct_scroll_move_duration        0.998521  0.000018  Not Normal\n",
      "mouse_move_total_rel_distance    0.99952  0.121666      Normal\n",
      "product_ean                     0.956371       0.0  Not Normal\n",
      "pct_rage_click                  0.999447  0.061785      Normal\n",
      "pct_wild_mouse                  0.999558  0.170784      Normal\n",
      "session_duration                0.999468  0.074797      Normal\n",
      "wild_mouse_duration             0.991602       0.0  Not Normal\n",
      "session_id                      0.951575       0.0  Not Normal\n",
      "pct_click_product_info          0.999376  0.031586  Not Normal\n",
      "scroll_move_total_rel_distance  0.999108  0.002533  Not Normal\n",
      "total_load_time                 0.895155       0.0  Not Normal\n",
      "screen_width                    0.914083       0.0  Not Normal\n",
      "screen_height                   0.814884       0.0  Not Normal\n",
      "birthdate                       0.948842       0.0  Not Normal\n",
      "registration                    0.956485       0.0  Not Normal\n",
      "timestamp                       0.952326       0.0  Not Normal\n",
      "session_start                   0.952326       0.0  Not Normal\n"
     ]
    },
    {
     "name": "stderr",
     "output_type": "stream",
     "text": [
      "c:\\Users\\default.LAPTOP-E7URUV4I\\AppData\\Local\\Programs\\Python\\Python37\\lib\\site-packages\\scipy\\stats\\morestats.py:1757: UserWarning: Input data for shapiro has range zero. The results may not be accurate.\n",
      "  warnings.warn(\"Input data for shapiro has range zero. The results \"\n",
      "c:\\Users\\default.LAPTOP-E7URUV4I\\AppData\\Local\\Programs\\Python\\Python37\\lib\\site-packages\\scipy\\stats\\morestats.py:1760: UserWarning: p-value may not be accurate for N > 5000.\n",
      "  warnings.warn(\"p-value may not be accurate for N > 5000.\")\n"
     ]
    }
   ],
   "source": [
    "shapiro_results = {}\n",
    "\n",
    "# Iterate through each column\n",
    "for column in merged_data_imputed.columns:\n",
    "    if merged_data_imputed[column].dtype in ['int64', 'int32', 'float64']:\n",
    "        # Perform the Shapiro-Wilk test\n",
    "        stat, p = stats.shapiro(merged_data_imputed[column])\n",
    "        alpha = 0.05  # Significance level\n",
    "        \n",
    "        # Store the results in the dictionary\n",
    "        shapiro_results[column] = {\n",
    "            'statistic': stat,\n",
    "            'p-value': p,\n",
    "            'normality': 'Normal' if p > alpha else 'Not Normal'\n",
    "        }\n",
    "\n",
    "# Convert the results dictionary to a DataFrame for easier analysis and visualization\n",
    "shapiro_results_df = pd.DataFrame(shapiro_results).T\n",
    "print(shapiro_results_df)"
   ]
  },
  {
   "cell_type": "markdown",
   "metadata": {},
   "source": [
    "Na dátach, ktoré majú norálne rozloženie (Gaussian distribution) použijeme Standard Deviation Method na odhalenie oulierov"
   ]
  },
  {
   "cell_type": "code",
   "execution_count": 515,
   "metadata": {},
   "outputs": [
    {
     "name": "stdout",
     "output_type": "stream",
     "text": [
      "Identified outliers: 0 col_0\n",
      "Identified outliers: 15 pct_scroll_move\n",
      "Identified outliers: 14 pct_scrandom\n",
      "Identified outliers: 14 mouse_move_total_rel_distance\n",
      "Identified outliers: 18 pct_rage_click\n",
      "Identified outliers: 22 pct_wild_mouse\n",
      "Identified outliers: 19 session_duration\n"
     ]
    }
   ],
   "source": [
    "from numpy import mean\n",
    "from numpy import std\n",
    "\n",
    "# Filter the columns with 'Normal' in the 'normality' column\n",
    "normal_columns = shapiro_results_df[shapiro_results_df['normality'] == 'Normal']\n",
    "\n",
    "for column_name in normal_columns.index:\n",
    "    data = merged_data_imputed[column_name]\n",
    "\n",
    "    data_mean, data_std = mean(data), std(data)\n",
    "\n",
    "    # Define outliers\n",
    "    cut_off = data_std * 3\n",
    "    lower, upper = data_mean - cut_off, data_mean + cut_off \n",
    "\n",
    "    outliers = [x for x in data if x < lower or x > upper] \n",
    "    print('Identified outliers: %d' % len(outliers), column_name)\n",
    "\n",
    "\n",
    "    # Remove outliers and update the data in the DataFrame\n",
    "    merged_data_imputed[column_name] = [x if x >= lower and x <= upper else data_mean for x in data]\n",
    "\n"
   ]
  },
  {
   "cell_type": "markdown",
   "metadata": {},
   "source": [
    "Na dáta, ktoré nemajú normálne rozloženie sme použili Interquartile Range Method na odhalenie outlierov"
   ]
  },
  {
   "cell_type": "code",
   "execution_count": 516,
   "metadata": {},
   "outputs": [
    {
     "name": "stdout",
     "output_type": "stream",
     "text": [
      "Identified outliers: 603 col_1\n",
      "Identified outliers: 938 col_2\n",
      "Identified outliers: 0 col_3\n",
      "Identified outliers: 0 col_4\n",
      "Identified outliers: 0 sex_0\n",
      "Identified outliers: 0 sex_1\n",
      "Identified outliers: 0 new_user_id\n",
      "Identified outliers: 599 race_0\n",
      "Identified outliers: 0 race_1\n",
      "Identified outliers: 0 race_2\n",
      "Identified outliers: 0 user_id\n",
      "Identified outliers: 17 pct_mouse_click\n",
      "Identified outliers: 136 pct_doubleclick\n",
      "Identified outliers: 566 pct_input\n",
      "Identified outliers: 0 page_activity_duration\n",
      "Identified outliers: 0 ack\n",
      "Identified outliers: 105 pct_click\n",
      "Identified outliers: 48 pct_mouse_move\n",
      "Identified outliers: 14 pct_scroll_move_duration\n",
      "Identified outliers: 0 product_ean\n",
      "Identified outliers: 2 wild_mouse_duration\n",
      "Identified outliers: 0 session_id\n",
      "Identified outliers: 22 pct_click_product_info\n",
      "Identified outliers: 39 scroll_move_total_rel_distance\n",
      "Identified outliers: 84 total_load_time\n",
      "Identified outliers: 58 screen_width\n",
      "Identified outliers: 9 screen_height\n",
      "Identified outliers: 0 birthdate\n",
      "Identified outliers: 0 registration\n",
      "Identified outliers: 0 timestamp\n",
      "Identified outliers: 0 session_start\n"
     ]
    }
   ],
   "source": [
    "from numpy import percentile\n",
    "\n",
    "not_normal_columns = shapiro_results_df[shapiro_results_df['normality'] == 'Not Normal']\n",
    "\n",
    "# Assuming you have not_normal_columns containing the columns with non-normal distribution\n",
    "for column_name in not_normal_columns.index:\n",
    "    data = merged_data_imputed[column_name]\n",
    "\n",
    "    q25, q75 = percentile(data, 25), percentile(data, 75)\n",
    "    iqr = q75 - q25\n",
    "\n",
    "    cut_off = iqr * 1.5\n",
    "    lower, upper = q25 - cut_off, q75 + cut_off\n",
    "\n",
    "    # Identify outliers in the current column\n",
    "    outliers = data[(data < lower) | (data > upper)]\n",
    "    print('Identified outliers: %d' % len(outliers), column_name)\n",
    "\n",
    "    # Remove rows with outliers\n",
    "    merged_data_imputed = merged_data_imputed[~data.isin(outliers)]\n"
   ]
  },
  {
   "cell_type": "markdown",
   "metadata": {},
   "source": [
    "#### Outlierov sme odhalili a odstránili záznamy z datasetu, alebo sme outlierov nahradili inými hodnotami."
   ]
  },
  {
   "cell_type": "markdown",
   "metadata": {},
   "source": [
    "## Rozdelíme dáta na trénovacie a testovacie datasety"
   ]
  },
  {
   "cell_type": "code",
   "execution_count": 517,
   "metadata": {},
   "outputs": [],
   "source": [
    "from sklearn.model_selection import train_test_split\n",
    "\n",
    "X = merged_data_imputed.drop(columns=['ack'])\n",
    "y = merged_data_imputed['ack']\n",
    "\n",
    "# Split the dataset into training (80%) and testing (20%) sets\n",
    "X_train, X_test, y_train, y_test = train_test_split(X, y, test_size=0.2, random_state=42)\n"
   ]
  },
  {
   "cell_type": "code",
   "execution_count": 518,
   "metadata": {},
   "outputs": [
    {
     "name": "stdout",
     "output_type": "stream",
     "text": [
      "Training set class distribution:\n",
      " 0.0    1232\n",
      "1.0    1072\n",
      "Name: ack, dtype: int64\n",
      "Testing set class distribution:\n",
      " 0.0    324\n",
      "1.0    252\n",
      "Name: ack, dtype: int64\n"
     ]
    }
   ],
   "source": [
    "print(\"Training set class distribution:\\n\", y_train.value_counts())\n",
    "print(\"Testing set class distribution:\\n\", y_test.value_counts())"
   ]
  },
  {
   "cell_type": "code",
   "execution_count": 519,
   "metadata": {},
   "outputs": [
    {
     "name": "stdout",
     "output_type": "stream",
     "text": [
      "X_train shape: (2304, 37)\n",
      "X_test shape: (576, 37)\n"
     ]
    }
   ],
   "source": [
    "print(\"X_train shape:\", X_train.shape)\n",
    "print(\"X_test shape:\", X_test.shape)"
   ]
  }
 ],
 "metadata": {
  "kernelspec": {
   "display_name": "iau",
   "language": "python",
   "name": "python3"
  },
  "language_info": {
   "codemirror_mode": {
    "name": "ipython",
    "version": 3
   },
   "file_extension": ".py",
   "mimetype": "text/x-python",
   "name": "python",
   "nbconvert_exporter": "python",
   "pygments_lexer": "ipython3",
   "version": "3.7.9"
  }
 },
 "nbformat": 4,
 "nbformat_minor": 2
}
