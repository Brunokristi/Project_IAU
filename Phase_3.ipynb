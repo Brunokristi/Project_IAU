{
 "cells": [
  {
   "cell_type": "markdown",
   "metadata": {},
   "source": [
    "# IAU 2023/2024\n",
    "## **Autori:** Laura Fulajtárová (50%), Bruno Kristián (50%)"
   ]
  },
  {
   "cell_type": "markdown",
   "metadata": {},
   "source": [
    "# Fáza 3 - Strojové učenie "
   ]
  },
  {
   "cell_type": "code",
   "execution_count": 1,
   "metadata": {},
   "outputs": [],
   "source": [
    "import pandas as pd\n",
    "import numpy as np\n",
    "import random\n",
    "from sklearn.ensemble import RandomForestClassifier\n",
    "from sklearn.metrics import accuracy_score, precision_score, recall_score\n",
    "from sklearn.neighbors import KNeighborsClassifier\n",
    "import matplotlib.pyplot as plt\n",
    "import seaborn as sns\n",
    "from sklearn import tree\n",
    "from sklearn.tree import plot_tree\n",
    "from IPython.display import Image\n",
    "import copy\n",
    "from collections import Counter\n",
    "from IPython.display import display\n",
    "from sklearn.neighbors import KNeighborsClassifier\n",
    "from sklearn.model_selection import GridSearchCV\n",
    "from sklearn.ensemble import GradientBoostingClassifier"
   ]
  },
  {
   "cell_type": "markdown",
   "metadata": {},
   "source": [
    "### OneR algoritmus"
   ]
  },
  {
   "cell_type": "markdown",
   "metadata": {},
   "source": [
    "Dočasne sme spojili dáta z trénovacej a testovacej množiny, aby sme mohli vytvoriť OneR model. "
   ]
  },
  {
   "cell_type": "code",
   "execution_count": 2,
   "metadata": {},
   "outputs": [],
   "source": [
    "X_train = pd.read_csv(\"X_train.csv\", sep=',')\n",
    "y_train = pd.read_csv(\"y_train.csv\", sep=',')\n",
    "y_train = y_train.values.ravel()  # Converting y_train to a 1D array\n",
    "\n",
    "# Convert y_train to a DataFrame\n",
    "y_train_df = pd.DataFrame({'ack': y_train})  # Replace 'target_column_name' with the actual column name in y_train\n",
    "\n",
    "merged_train_data = pd.concat([X_train, y_train_df], axis=1)\n",
    "train_data = merged_train_data\n",
    "\n",
    "X_test = pd.read_csv(\"X_test.csv\", sep=',')\n",
    "y_test = pd.read_csv(\"y_test.csv\", sep=',')\n",
    "\n",
    "merged_test_data = pd.concat([X_test, y_test], axis=1)\n",
    "test_data = merged_test_data\n"
   ]
  },
  {
   "cell_type": "markdown",
   "metadata": {},
   "source": [
    "One Rule algoritmus sme naprogramovali iba pre číselné hodnoty, pretože v dátach sme si v minulých fázach premenili pomocou encodingu všetky kategorické hodnoty na číselné."
   ]
  },
  {
   "cell_type": "code",
   "execution_count": 3,
   "metadata": {},
   "outputs": [],
   "source": [
    "def one_rule_algorithm(data, target_variable, explored_columns):\n",
    "    best_feature = None\n",
    "    best_accuracy = 0\n",
    "    \n",
    "    for feature in data.columns:\n",
    "        if feature == target_variable or feature in explored_columns:\n",
    "            continue\n",
    "        \n",
    "        mean_values = data.groupby(target_variable)[feature].mean()\n",
    "        split_point = mean_values.mean()\n",
    "        \n",
    "        temp_data = data.copy()\n",
    "        temp_data['prediction'] = temp_data[feature] > split_point\n",
    "        \n",
    "        accuracy = accuracy_score(temp_data[target_variable], temp_data['prediction'])\n",
    "        precision = precision_score(temp_data[target_variable], temp_data['prediction'])\n",
    "        recall = recall_score(temp_data[target_variable], temp_data['prediction'])\n",
    "        \n",
    "        if accuracy > best_accuracy:\n",
    "            best_feature = feature\n",
    "            best_accuracy = accuracy\n",
    "            best_precision = precision\n",
    "            best_recall = recall\n",
    "            result = temp_data['prediction']\n",
    "    \n",
    "    return best_feature, best_accuracy, best_precision, best_recall, result"
   ]
  },
  {
   "cell_type": "markdown",
   "metadata": {},
   "source": [
    "Spustíme algoritmus OneR s predikovanou premennou \"ack\" a vyhodnotíme metriky."
   ]
  },
  {
   "cell_type": "markdown",
   "metadata": {},
   "source": [
    "Na vyhodnotenie modelu sme použili nasledovné metriky:\n",
    "- Accuracy - ako často klasiﬁkátor správne klasifikoval \n",
    "\n",
    "- Precision - koľko správne predikovaných príkladov bolo pozitívnych\n",
    "\n",
    "- Recall - koľko pozitívnych príkladov bolo správne predikovaných"
   ]
  },
  {
   "cell_type": "markdown",
   "metadata": {},
   "source": [
    "### OneR s jednou premennou"
   ]
  },
  {
   "cell_type": "code",
   "execution_count": 4,
   "metadata": {},
   "outputs": [
    {
     "name": "stdout",
     "output_type": "stream",
     "text": [
      "Best column from OneR: page_activity_duration\n",
      "Accuracy: 0.8994723687864482\n",
      "\n",
      "\n",
      "Best column from OneR: page_activity_duration\n",
      "Accuracy: 0.9056603773584906\n",
      "Precision: 0.8571428571428571\n",
      "Recall: 0.96\n"
     ]
    }
   ],
   "source": [
    "target_variable = 'ack'\n",
    "\n",
    "oneR_train_data = copy.deepcopy(train_data)\n",
    "oneR_test_data = copy.deepcopy(test_data)\n",
    "\n",
    "best_feature, best_accuracy, best_precision, best_recall, prediction = one_rule_algorithm(oneR_train_data, target_variable, [])\n",
    "print('Best column from OneR:', best_feature)\n",
    "print('Accuracy:', best_accuracy)\n",
    "print('\\n')\n",
    "\n",
    "oneR_train_data[[best_feature, 'ack']]\n",
    "best_feature, best_accuracy, best_precision, best_recall, prediction = one_rule_algorithm(oneR_test_data, target_variable, [])\n",
    "print('Best column from OneR:', best_feature)\n",
    "print('Accuracy:', best_accuracy)\n",
    "print('Precision:', best_precision)\n",
    "print('Recall:', best_recall)\n"
   ]
  },
  {
   "cell_type": "markdown",
   "metadata": {},
   "source": [
    "Vidíme, že algoritmus vyhodnotil \"page_activity_duration\" ako najlepšiu premennú pre predikciu \"ack\". Algoritmus na základe premennej \"page_activity_duration\" predikoval s presnosťou takmer 90%."
   ]
  },
  {
   "cell_type": "markdown",
   "metadata": {},
   "source": [
    "### OneR s viacerými premennými"
   ]
  },
  {
   "cell_type": "markdown",
   "metadata": {},
   "source": [
    "Teraz skúsime spustiť OneR algoritmus viackrát a zistiť ktoré premenné najlepšie predikujú \"ack\".\n",
    "\n",
    "Po zistení najlepších premenných ich použijeme na vytvorenie modelu. Pri vytváraní modelu prihliadame na presnosť predikcie danej premennej. Čím vyššia presnosť, tým má vyššiu váhu pri rozhodaovaní. "
   ]
  },
  {
   "cell_type": "code",
   "execution_count": 5,
   "metadata": {},
   "outputs": [],
   "source": [
    "target_variable = 'ack'\n",
    "results = []\n",
    "explored_columns = []\n",
    "final_results = []\n",
    "\n",
    "for _ in range(5):\n",
    "    oneR_train_data = copy.deepcopy(train_data)\n",
    "    best_feature, best_accuracy, best_precision, best_recall, prediction = one_rule_algorithm(oneR_train_data, target_variable, explored_columns)\n",
    "    explored_columns.append(best_feature)\n",
    "    results.append((best_accuracy, prediction.tolist()))\n",
    "\n",
    "for result in results:\n",
    "    if result[0] > 0.7:\n",
    "        final_results.append(result[1])\n",
    "        final_results.append(result[1])\n",
    "    else:\n",
    "        final_results.append(result[1])\n",
    "\n",
    "combined_predictions = [Counter(sample).most_common(1)[0][0] for sample in zip(*final_results)]\n",
    "\n",
    "overall_accuracy = accuracy_score(train_data[target_variable], combined_predictions)\n",
    "overall_precision = precision_score(train_data[target_variable], combined_predictions, zero_division=0)\n",
    "overall_recall = recall_score(train_data[target_variable], combined_predictions)\n",
    "\n",
    "table_data = {\n",
    "    \"Algorithm\": [\"OneR\"],\n",
    "    \"Accuracy\": [overall_accuracy],\n",
    "    \"Precision\": [overall_precision],\n",
    "    \"Recall\": [overall_recall]\n",
    "}\n",
    "\n",
    "oneR_table = pd.DataFrame(table_data)"
   ]
  },
  {
   "cell_type": "markdown",
   "metadata": {},
   "source": [
    "Najlepšie premenné k predikcií \"ack\""
   ]
  },
  {
   "cell_type": "code",
   "execution_count": 6,
   "metadata": {},
   "outputs": [
    {
     "data": {
      "text/html": [
       "<div>\n",
       "<style scoped>\n",
       "    .dataframe tbody tr th:only-of-type {\n",
       "        vertical-align: middle;\n",
       "    }\n",
       "\n",
       "    .dataframe tbody tr th {\n",
       "        vertical-align: top;\n",
       "    }\n",
       "\n",
       "    .dataframe thead th {\n",
       "        text-align: right;\n",
       "    }\n",
       "</style>\n",
       "<table border=\"1\" class=\"dataframe\">\n",
       "  <thead>\n",
       "    <tr style=\"text-align: right;\">\n",
       "      <th></th>\n",
       "      <th>Feature</th>\n",
       "      <th>Accuracy</th>\n",
       "    </tr>\n",
       "  </thead>\n",
       "  <tbody>\n",
       "    <tr>\n",
       "      <th>0</th>\n",
       "      <td>page_activity_duration</td>\n",
       "      <td>0.899472</td>\n",
       "    </tr>\n",
       "    <tr>\n",
       "      <th>1</th>\n",
       "      <td>pct_input</td>\n",
       "      <td>0.628159</td>\n",
       "    </tr>\n",
       "    <tr>\n",
       "      <th>2</th>\n",
       "      <td>pct_doubleclick</td>\n",
       "      <td>0.605110</td>\n",
       "    </tr>\n",
       "    <tr>\n",
       "      <th>3</th>\n",
       "      <td>wild_mouse_duration</td>\n",
       "      <td>0.581505</td>\n",
       "    </tr>\n",
       "    <tr>\n",
       "      <th>4</th>\n",
       "      <td>pct_click</td>\n",
       "      <td>0.575396</td>\n",
       "    </tr>\n",
       "  </tbody>\n",
       "</table>\n",
       "</div>"
      ],
      "text/plain": [
       "                  Feature  Accuracy\n",
       "0  page_activity_duration  0.899472\n",
       "1               pct_input  0.628159\n",
       "2         pct_doubleclick  0.605110\n",
       "3     wild_mouse_duration  0.581505\n",
       "4               pct_click  0.575396"
      ]
     },
     "execution_count": 6,
     "metadata": {},
     "output_type": "execute_result"
    }
   ],
   "source": [
    "table_data = {\n",
    "    \"Feature\": explored_columns,\n",
    "    \"Accuracy\": [result[0] for result in results]\n",
    "}\n",
    "\n",
    "accuracy_table = pd.DataFrame(table_data)\n",
    "accuracy_table"
   ]
  },
  {
   "cell_type": "markdown",
   "metadata": {},
   "source": [
    "Výsledky metrík pre predikovanie premennej \"ack\" pomocou OneR algoritmu s viacerými premennými."
   ]
  },
  {
   "cell_type": "code",
   "execution_count": 7,
   "metadata": {},
   "outputs": [
    {
     "name": "stdout",
     "output_type": "stream",
     "text": [
      "Overall Accuracy: 0.8339350180505415\n",
      "Overall Precision: 0.8271166370633511\n",
      "Overall Recall: 0.82031708749266\n"
     ]
    }
   ],
   "source": [
    "print('Overall Accuracy:', overall_accuracy)\n",
    "print('Overall Precision:', overall_precision)\n",
    "print('Overall Recall:', overall_recall)"
   ]
  },
  {
   "cell_type": "markdown",
   "metadata": {},
   "source": [
    "### Scikit-learn Klasifikátory"
   ]
  },
  {
   "cell_type": "markdown",
   "metadata": {},
   "source": [
    "Stromový klasifikátor Random Forest."
   ]
  },
  {
   "cell_type": "code",
   "execution_count": 8,
   "metadata": {},
   "outputs": [
    {
     "data": {
      "text/plain": [
       "'# Analysis for varying model complexity\\nresults = []\\nmax_depth_range = range(1, 30)  # Varying max_depth from 1 to 20\\n\\nfor depth in max_depth_range:\\n    rf_model = RandomForestClassifier(n_estimators=100, max_depth=depth, random_state=1)\\n    rf_model.fit(X_train, y_train)\\n    \\n    # Calculate error on training set\\n    train_pred = rf_model.predict(X_train)\\n    train_error = 1 - accuracy_score(y_train, train_pred)\\n\\n    # Calculate error on test set\\n    test_pred = rf_model.predict(X_test)\\n    test_error = 1 - accuracy_score(y_test, test_pred)\\n\\n    results.append({\\'max_depth\\': depth, \\'train_error\\': train_error, \\'test_error\\': test_error})\\n\\n# Convert results to a DataFrame for easier plotting\\nresults_df = pd.DataFrame(results)\\n\\n# Find the max_depth with the lowest test error\\noptimal_depth = results_df[\\'max_depth\\'][results_df[\\'test_error\\'].idxmin()]\\n\\n# Plotting the errors vs model complexity\\nplt.figure(figsize=(10, 6))\\nplt.plot(results_df[\\'max_depth\\'], results_df[\\'train_error\\'], label=\\'Training Error\\', marker=\\'o\\', color=\\'blue\\')\\nplt.plot(results_df[\\'max_depth\\'], results_df[\\'test_error\\'], label=\\'Testing Error\\', marker=\\'o\\', color=\\'red\\')\\n\\n# Add vertical line at the point of lowest test error\\nplt.axvline(x=optimal_depth, color=\\'green\\', linestyle=\\'--\\', label=f\\'Optimal Depth: {optimal_depth}\\')\\n\\nplt.title(\"Error vs. Model Complexity (Max Depth)\")\\nplt.xlabel(\"Max Depth\")\\nplt.ylabel(\"Error (1 - Accuracy)\")\\nplt.legend()\\nplt.grid()\\nplt.show()\\n\\n# Display the optimal depth and corresponding errors\\noptimal_info = results_df.loc[results_df[\\'max_depth\\'] == optimal_depth]\\noptimal_info'"
      ]
     },
     "execution_count": 8,
     "metadata": {},
     "output_type": "execute_result"
    }
   ],
   "source": [
    "\"\"\"# Analysis for varying model complexity\n",
    "results = []\n",
    "max_depth_range = range(1, 30)  # Varying max_depth from 1 to 20\n",
    "\n",
    "for depth in max_depth_range:\n",
    "    rf_model = RandomForestClassifier(n_estimators=100, max_depth=depth, random_state=1)\n",
    "    rf_model.fit(X_train, y_train)\n",
    "    \n",
    "    # Calculate error on training set\n",
    "    train_pred = rf_model.predict(X_train)\n",
    "    train_error = 1 - accuracy_score(y_train, train_pred)\n",
    "\n",
    "    # Calculate error on test set\n",
    "    test_pred = rf_model.predict(X_test)\n",
    "    test_error = 1 - accuracy_score(y_test, test_pred)\n",
    "\n",
    "    results.append({'max_depth': depth, 'train_error': train_error, 'test_error': test_error})\n",
    "\n",
    "# Convert results to a DataFrame for easier plotting\n",
    "results_df = pd.DataFrame(results)\n",
    "\n",
    "# Find the max_depth with the lowest test error\n",
    "optimal_depth = results_df['max_depth'][results_df['test_error'].idxmin()]\n",
    "\n",
    "# Plotting the errors vs model complexity\n",
    "plt.figure(figsize=(10, 6))\n",
    "plt.plot(results_df['max_depth'], results_df['train_error'], label='Training Error', marker='o', color='blue')\n",
    "plt.plot(results_df['max_depth'], results_df['test_error'], label='Testing Error', marker='o', color='red')\n",
    "\n",
    "# Add vertical line at the point of lowest test error\n",
    "plt.axvline(x=optimal_depth, color='green', linestyle='--', label=f'Optimal Depth: {optimal_depth}')\n",
    "\n",
    "plt.title(\"Error vs. Model Complexity (Max Depth)\")\n",
    "plt.xlabel(\"Max Depth\")\n",
    "plt.ylabel(\"Error (1 - Accuracy)\")\n",
    "plt.legend()\n",
    "plt.grid()\n",
    "plt.show()\n",
    "\n",
    "# Display the optimal depth and corresponding errors\n",
    "optimal_info = results_df.loc[results_df['max_depth'] == optimal_depth]\n",
    "optimal_info\"\"\""
   ]
  },
  {
   "cell_type": "code",
   "execution_count": 9,
   "metadata": {},
   "outputs": [
    {
     "name": "stdout",
     "output_type": "stream",
     "text": [
      "Accuracy Train: 0.98\n",
      "\n",
      "\n",
      "Accuracy: 0.96\n",
      "Precision: 0.94\n",
      "Recall: 0.97\n"
     ]
    }
   ],
   "source": [
    "results = []\n",
    "estimators = []\n",
    "\n",
    "clf = RandomForestClassifier(max_depth = 17, min_samples_split = 6, min_samples_leaf = 4)\n",
    "clf.fit(X_train, y_train)\n",
    "\n",
    "predictions = clf.predict(X_test)\n",
    "train_predictions = clf.predict(X_train)\n",
    "\n",
    "accuracy = accuracy_score(y_test, predictions)\n",
    "accuracy_train = accuracy_score(y_train, train_predictions)\n",
    "precision = precision_score(y_test, predictions)\n",
    "recall = recall_score(y_test, predictions)\n",
    "\n",
    "print(f\"Accuracy Train: {accuracy_train:.2f}\")\n",
    "print('\\n')\n",
    "print(f\"Accuracy: {accuracy:.2f}\")\n",
    "print(f\"Precision: {precision:.2f}\")\n",
    "print(f\"Recall: {recall:.2f}\")\n",
    "\n",
    "table_data = {\n",
    "    \"Algorithm\": [\"Random Forest\"],\n",
    "    \"Accuracy\": [accuracy],\n",
    "    \"Precision\": [precision],\n",
    "    \"Recall\": [recall]\n",
    "}\n",
    "\n",
    "RF_table = pd.DataFrame(table_data)\n",
    "\n",
    "feature_importances = clf.feature_importances_\n",
    "sorted_indices = np.argsort(feature_importances)[::-1]\n",
    "top_5_features_rf = sorted_indices[:5]\n",
    "top_5_importances = feature_importances[top_5_features_rf]\n",
    "\n",
    "feature_names = X_test.columns.values\n",
    "\n",
    "top_5_feature_names_rf = [feature_names[i] for i in top_5_features_rf]"
   ]
  },
  {
   "cell_type": "markdown",
   "metadata": {},
   "source": [
    "Stromový klasifikátor Gradient Boosting."
   ]
  },
  {
   "cell_type": "code",
   "execution_count": 10,
   "metadata": {},
   "outputs": [
    {
     "data": {
      "text/plain": [
       "'# Analysis for varying model complexity\\nresults = []\\nmax_depth_range = range(1, 15)  # Varying max_depth from 1 to 15\\n\\nfor depth in max_depth_range:\\n    gb_model = GradientBoostingClassifier(max_depth=depth)\\n    gb_model.fit(X_train, y_train)\\n    \\n    # Calculate error on training set\\n    train_pred = gb_model.predict(X_train)\\n    train_error = 1 - accuracy_score(y_train, train_pred)\\n\\n    # Calculate error on test set\\n    test_pred = gb_model.predict(X_test)\\n    test_error = 1 - accuracy_score(y_test, test_pred)\\n\\n    results.append({\\'max_depth\\': depth, \\'train_error\\': train_error, \\'test_error\\': test_error})\\n\\n# Convert results to a DataFrame for easier plotting\\nresults_df = pd.DataFrame(results)\\n\\n# Find the max_depth with the lowest test error\\noptimal_depth = results_df[\\'max_depth\\'][results_df[\\'test_error\\'].idxmin()]\\n\\n# Plotting the errors vs model complexity\\nplt.figure(figsize=(10, 6))\\nplt.plot(results_df[\\'max_depth\\'], results_df[\\'train_error\\'], label=\\'Training Error\\', marker=\\'o\\', color=\\'blue\\')\\nplt.plot(results_df[\\'max_depth\\'], results_df[\\'test_error\\'], label=\\'Testing Error\\', marker=\\'o\\', color=\\'red\\')\\n\\n# Add vertical line at the point of lowest test error\\nplt.axvline(x=optimal_depth, color=\\'green\\', linestyle=\\'--\\', label=f\\'Optimal Depth: {optimal_depth}\\')\\n\\nplt.title(\"Error vs. Model Complexity (Max Depth)\")\\nplt.xlabel(\"Max Depth\")\\nplt.ylabel(\"Error (1 - Accuracy)\")\\nplt.legend()\\nplt.grid()\\nplt.show()\\n\\n# Display the optimal depth and corresponding errors\\noptimal_info = results_df.loc[results_df[\\'max_depth\\'] == optimal_depth]\\noptimal_info'"
      ]
     },
     "execution_count": 10,
     "metadata": {},
     "output_type": "execute_result"
    }
   ],
   "source": [
    "\"\"\"# Analysis for varying model complexity\n",
    "results = []\n",
    "max_depth_range = range(1, 15)  # Varying max_depth from 1 to 15\n",
    "\n",
    "for depth in max_depth_range:\n",
    "    gb_model = GradientBoostingClassifier(max_depth=depth)\n",
    "    gb_model.fit(X_train, y_train)\n",
    "    \n",
    "    # Calculate error on training set\n",
    "    train_pred = gb_model.predict(X_train)\n",
    "    train_error = 1 - accuracy_score(y_train, train_pred)\n",
    "\n",
    "    # Calculate error on test set\n",
    "    test_pred = gb_model.predict(X_test)\n",
    "    test_error = 1 - accuracy_score(y_test, test_pred)\n",
    "\n",
    "    results.append({'max_depth': depth, 'train_error': train_error, 'test_error': test_error})\n",
    "\n",
    "# Convert results to a DataFrame for easier plotting\n",
    "results_df = pd.DataFrame(results)\n",
    "\n",
    "# Find the max_depth with the lowest test error\n",
    "optimal_depth = results_df['max_depth'][results_df['test_error'].idxmin()]\n",
    "\n",
    "# Plotting the errors vs model complexity\n",
    "plt.figure(figsize=(10, 6))\n",
    "plt.plot(results_df['max_depth'], results_df['train_error'], label='Training Error', marker='o', color='blue')\n",
    "plt.plot(results_df['max_depth'], results_df['test_error'], label='Testing Error', marker='o', color='red')\n",
    "\n",
    "# Add vertical line at the point of lowest test error\n",
    "plt.axvline(x=optimal_depth, color='green', linestyle='--', label=f'Optimal Depth: {optimal_depth}')\n",
    "\n",
    "plt.title(\"Error vs. Model Complexity (Max Depth)\")\n",
    "plt.xlabel(\"Max Depth\")\n",
    "plt.ylabel(\"Error (1 - Accuracy)\")\n",
    "plt.legend()\n",
    "plt.grid()\n",
    "plt.show()\n",
    "\n",
    "# Display the optimal depth and corresponding errors\n",
    "optimal_info = results_df.loc[results_df['max_depth'] == optimal_depth]\n",
    "optimal_info\"\"\""
   ]
  },
  {
   "cell_type": "code",
   "execution_count": 11,
   "metadata": {},
   "outputs": [
    {
     "name": "stdout",
     "output_type": "stream",
     "text": [
      "Accuracy Train: 1.00\n",
      "\n",
      "\n",
      "Accuracy: 0.97\n",
      "Precision: 0.95\n",
      "Recall: 0.98\n"
     ]
    }
   ],
   "source": [
    "gb_model = GradientBoostingClassifier(n_estimators=100, random_state=1, max_depth = 8)\n",
    "\n",
    "gb_model.fit(X_train, y_train)\n",
    "\n",
    "gb_y_pred = gb_model.predict(X_test)\n",
    "gb_y_pred_train = gb_model.predict(X_train)\n",
    "\n",
    "gb_trin_accuracy = accuracy_score(y_train, gb_y_pred_train)\n",
    "gb_accuracy = accuracy_score(y_test, gb_y_pred)\n",
    "gb_precision = precision_score(y_test, gb_y_pred)\n",
    "gb_recall = recall_score(y_test, gb_y_pred)\n",
    "\n",
    "print(f\"Accuracy Train: {gb_trin_accuracy:.2f}\")\n",
    "print('\\n')\n",
    "print(f\"Accuracy: {gb_accuracy:.2f}\")\n",
    "print(f\"Precision: {gb_precision:.2f}\")\n",
    "print(f\"Recall: {gb_recall:.2f}\")\n",
    "\n",
    "table_data = {\n",
    "    \"Algorithm\": [\"Gradient Boosting\"],\n",
    "    \"Accuracy\": [gb_accuracy],\n",
    "    \"Precision\": [gb_precision],\n",
    "    \"Recall\": [gb_recall]\n",
    "}\n",
    "\n",
    "GB_table = pd.DataFrame(table_data)\n",
    "\n",
    "feature_importances = gb_model.feature_importances_\n",
    "sorted_indices = np.argsort(feature_importances)[::-1]\n",
    "top_5_features_gb = sorted_indices[:5]\n",
    "top_5_importances = feature_importances[top_5_features_gb]\n",
    "feature_names = X_test.columns.values\n",
    "\n",
    "top_5_feature_names = [feature_names[i] for i in top_5_features_gb]"
   ]
  },
  {
   "cell_type": "markdown",
   "metadata": {},
   "source": [
    "### Nestromový algoritmus"
   ]
  },
  {
   "cell_type": "markdown",
   "metadata": {},
   "source": [
    "Pre nestromový algoritmus sme si vybrali KNN klasifikátor.\n",
    "\n",
    "Najskôr si dáta scalujeme a normalizujeme, aby KNN klasifikátor pracoval efektívnejšie."
   ]
  },
  {
   "cell_type": "code",
   "execution_count": 12,
   "metadata": {},
   "outputs": [],
   "source": [
    "from sklearn.preprocessing import MinMaxScaler, PowerTransformer\n",
    "\n",
    "scaler = MinMaxScaler()\n",
    "scaled_data = scaler.fit_transform(X_train)\n",
    "train_data_scaled = pd.DataFrame(scaled_data, columns=X_train.columns)\n",
    "\n",
    "power = PowerTransformer(method='yeo-johnson', standardize=True) \n",
    "X_train_normalised = power.fit_transform(train_data_scaled)\n",
    "X_train_scaled_normalised = pd.DataFrame(X_train_normalised, columns=X_train.columns)\n",
    "\n",
    "scaled_test_data = scaler.transform(X_test)\n",
    "test_data_scaled = pd.DataFrame(scaled_test_data, columns=X_test.columns)\n",
    "\n",
    "normalized_test_data = power.transform(test_data_scaled)\n",
    "test_data_scaled_normalized = pd.DataFrame(normalized_test_data, columns=X_test.columns)"
   ]
  },
  {
   "cell_type": "markdown",
   "metadata": {},
   "source": [
    "Pri stromových klasifikačných algoritmoch sme nemuseli použiť feature selection, pretože si s tým poradili samé. Pri nestromových algoritmoch je to však inak."
   ]
  },
  {
   "cell_type": "code",
   "execution_count": 13,
   "metadata": {},
   "outputs": [],
   "source": [
    "columns_to_keep = [\n",
    "    'page_activity_duration', 'pct_doubleclick', 'pct_mouse_click', 'wild_mouse_duration',\n",
    "    'pct_mouse_move', 'pct_input', 'pct_click', 'session_start', \n",
    "    'scroll_move_total_rel_distance', 'pct_scroll_move'\n",
    "]\n",
    "\n",
    "X_train_filtered = X_train_scaled_normalised[columns_to_keep]\n",
    "X_test_filtered = test_data_scaled_normalized[columns_to_keep]"
   ]
  },
  {
   "cell_type": "markdown",
   "metadata": {},
   "source": [
    "KNN klasifikátor"
   ]
  },
  {
   "cell_type": "code",
   "execution_count": 14,
   "metadata": {},
   "outputs": [
    {
     "name": "stdout",
     "output_type": "stream",
     "text": [
      "Accuracy Train: 0.96\n",
      "\n",
      "\n",
      "Accuracy: 0.97\n",
      "Precision: 0.96\n",
      "Recall: 0.97\n"
     ]
    }
   ],
   "source": [
    "knn_model = KNeighborsClassifier(n_neighbors=10)\n",
    "\n",
    "knn_model.fit(X_train_filtered, y_train)\n",
    "\n",
    "knn_y_pred = knn_model.predict(X_test_filtered)\n",
    "knn_y_pred_train = knn_model.predict(X_train_filtered)\n",
    "\n",
    "knn_trin_accuracy = accuracy_score(y_train, knn_y_pred_train)\n",
    "knn_accuracy = accuracy_score(y_test, knn_y_pred)\n",
    "knn_precision = precision_score(y_test, knn_y_pred)\n",
    "knn_recall = recall_score(y_test, knn_y_pred)\n",
    "\n",
    "print(f\"Accuracy Train: {knn_trin_accuracy:.2f}\")\n",
    "print('\\n')\n",
    "print(f\"Accuracy: {knn_accuracy:.2f}\")\n",
    "print(f\"Precision: {knn_precision:.2f}\")\n",
    "print(f\"Recall: {knn_recall:.2f}\")\n",
    "\n",
    "table_data_knn = {\n",
    "    \"Algorithm\": [\"K-Nearest Neighbors\"],\n",
    "    \"Accuracy\": [knn_accuracy],\n",
    "    \"Precision\": [knn_precision],\n",
    "    \"Recall\": [knn_recall]\n",
    "}\n",
    "\n",
    "knn_table = pd.DataFrame(table_data_knn)\n",
    "\n",
    "from sklearn.feature_selection import SelectKBest, f_classif\n",
    "\n",
    "selector = SelectKBest(score_func=f_classif, k=5)\n",
    "selector.fit(X_train_filtered, y_train)\n",
    "top_5_indices = selector.get_support(indices=True)\n",
    "top_5_features_knn = X_train_filtered.columns[top_5_indices]"
   ]
  },
  {
   "cell_type": "markdown",
   "metadata": {},
   "source": [
    "#### Porovnanie výsledkov"
   ]
  },
  {
   "cell_type": "code",
   "execution_count": 15,
   "metadata": {},
   "outputs": [
    {
     "data": {
      "text/html": [
       "<div>\n",
       "<style scoped>\n",
       "    .dataframe tbody tr th:only-of-type {\n",
       "        vertical-align: middle;\n",
       "    }\n",
       "\n",
       "    .dataframe tbody tr th {\n",
       "        vertical-align: top;\n",
       "    }\n",
       "\n",
       "    .dataframe thead th {\n",
       "        text-align: right;\n",
       "    }\n",
       "</style>\n",
       "<table border=\"1\" class=\"dataframe\">\n",
       "  <thead>\n",
       "    <tr style=\"text-align: right;\">\n",
       "      <th></th>\n",
       "      <th>Algorithm</th>\n",
       "      <th>Accuracy</th>\n",
       "      <th>Precision</th>\n",
       "      <th>Recall</th>\n",
       "    </tr>\n",
       "  </thead>\n",
       "  <tbody>\n",
       "    <tr>\n",
       "      <th>0</th>\n",
       "      <td>OneR</td>\n",
       "      <td>0.833935</td>\n",
       "      <td>0.827117</td>\n",
       "      <td>0.820317</td>\n",
       "    </tr>\n",
       "  </tbody>\n",
       "</table>\n",
       "</div>"
      ],
      "text/plain": [
       "  Algorithm  Accuracy  Precision    Recall\n",
       "0      OneR  0.833935   0.827117  0.820317"
      ]
     },
     "metadata": {},
     "output_type": "display_data"
    },
    {
     "data": {
      "text/html": [
       "<div>\n",
       "<style scoped>\n",
       "    .dataframe tbody tr th:only-of-type {\n",
       "        vertical-align: middle;\n",
       "    }\n",
       "\n",
       "    .dataframe tbody tr th {\n",
       "        vertical-align: top;\n",
       "    }\n",
       "\n",
       "    .dataframe thead th {\n",
       "        text-align: right;\n",
       "    }\n",
       "</style>\n",
       "<table border=\"1\" class=\"dataframe\">\n",
       "  <thead>\n",
       "    <tr style=\"text-align: right;\">\n",
       "      <th></th>\n",
       "      <th>Algorithm</th>\n",
       "      <th>Accuracy</th>\n",
       "      <th>Precision</th>\n",
       "      <th>Recall</th>\n",
       "    </tr>\n",
       "  </thead>\n",
       "  <tbody>\n",
       "    <tr>\n",
       "      <th>0</th>\n",
       "      <td>Random Forest</td>\n",
       "      <td>0.955605</td>\n",
       "      <td>0.936508</td>\n",
       "      <td>0.971765</td>\n",
       "    </tr>\n",
       "  </tbody>\n",
       "</table>\n",
       "</div>"
      ],
      "text/plain": [
       "       Algorithm  Accuracy  Precision    Recall\n",
       "0  Random Forest  0.955605   0.936508  0.971765"
      ]
     },
     "metadata": {},
     "output_type": "display_data"
    },
    {
     "data": {
      "text/html": [
       "<div>\n",
       "<style scoped>\n",
       "    .dataframe tbody tr th:only-of-type {\n",
       "        vertical-align: middle;\n",
       "    }\n",
       "\n",
       "    .dataframe tbody tr th {\n",
       "        vertical-align: top;\n",
       "    }\n",
       "\n",
       "    .dataframe thead th {\n",
       "        text-align: right;\n",
       "    }\n",
       "</style>\n",
       "<table border=\"1\" class=\"dataframe\">\n",
       "  <thead>\n",
       "    <tr style=\"text-align: right;\">\n",
       "      <th></th>\n",
       "      <th>Algorithm</th>\n",
       "      <th>Accuracy</th>\n",
       "      <th>Precision</th>\n",
       "      <th>Recall</th>\n",
       "    </tr>\n",
       "  </thead>\n",
       "  <tbody>\n",
       "    <tr>\n",
       "      <th>0</th>\n",
       "      <td>Gradient Boosting</td>\n",
       "      <td>0.966704</td>\n",
       "      <td>0.954023</td>\n",
       "      <td>0.976471</td>\n",
       "    </tr>\n",
       "  </tbody>\n",
       "</table>\n",
       "</div>"
      ],
      "text/plain": [
       "           Algorithm  Accuracy  Precision    Recall\n",
       "0  Gradient Boosting  0.966704   0.954023  0.976471"
      ]
     },
     "metadata": {},
     "output_type": "display_data"
    },
    {
     "data": {
      "text/html": [
       "<div>\n",
       "<style scoped>\n",
       "    .dataframe tbody tr th:only-of-type {\n",
       "        vertical-align: middle;\n",
       "    }\n",
       "\n",
       "    .dataframe tbody tr th {\n",
       "        vertical-align: top;\n",
       "    }\n",
       "\n",
       "    .dataframe thead th {\n",
       "        text-align: right;\n",
       "    }\n",
       "</style>\n",
       "<table border=\"1\" class=\"dataframe\">\n",
       "  <thead>\n",
       "    <tr style=\"text-align: right;\">\n",
       "      <th></th>\n",
       "      <th>Algorithm</th>\n",
       "      <th>Accuracy</th>\n",
       "      <th>Precision</th>\n",
       "      <th>Recall</th>\n",
       "    </tr>\n",
       "  </thead>\n",
       "  <tbody>\n",
       "    <tr>\n",
       "      <th>0</th>\n",
       "      <td>K-Nearest Neighbors</td>\n",
       "      <td>0.965594</td>\n",
       "      <td>0.95814</td>\n",
       "      <td>0.969412</td>\n",
       "    </tr>\n",
       "  </tbody>\n",
       "</table>\n",
       "</div>"
      ],
      "text/plain": [
       "             Algorithm  Accuracy  Precision    Recall\n",
       "0  K-Nearest Neighbors  0.965594    0.95814  0.969412"
      ]
     },
     "metadata": {},
     "output_type": "display_data"
    }
   ],
   "source": [
    "display(oneR_table, RF_table, GB_table, knn_table)"
   ]
  },
  {
   "cell_type": "markdown",
   "metadata": {},
   "source": [
    "Z porovnania výsledkov vidíme, že najlepšie výsledky dosiahol Gradient Boosting klasifikátor.\n",
    "\n",
    "Náš oneR algoritmus dosiahol presnosť 83%. Dôvodom je jednoduchosť algoritmu a potreba predikovať pomocou viacerých premenných. Keďže najlepší atribút má presnosť okolo 90% a ostané atribúty majú presnosť len okolo 60%, tak pri predikovaní pomocou viacerých atribútov sa presnosť zníži.\n",
    "\n",
    "OneR algoritmus predikuje s precíznosťou 82%, čo je o viac ako 10% menej ako Gradient Boosting klasifikátor alebo Random Forest klasifikátor.\n",
    "\n",
    "Náš algoritmus je o 15% horší ako ako Gradient Boosting klasifikátor alebo Random Forest klasifikátor v predikovaní pozitívnych príkladov zo všetkých pozitívnych príkladov."
   ]
  },
  {
   "cell_type": "code",
   "execution_count": 16,
   "metadata": {},
   "outputs": [
    {
     "name": "stdout",
     "output_type": "stream",
     "text": [
      "One Rule Algorithm:\n",
      "page_activity_duration\n",
      "pct_input\n",
      "pct_doubleclick\n",
      "wild_mouse_duration\n",
      "pct_click\n",
      "\n",
      "\n",
      "Random Forest:\n",
      "page_activity_duration\n",
      "pct_doubleclick\n",
      "pct_mouse_move\n",
      "pct_input\n",
      "wild_mouse_duration\n",
      "\n",
      "\n",
      "Gradient Boosting:\n",
      "page_activity_duration\n",
      "pct_doubleclick\n",
      "pct_mouse_move\n",
      "pct_mouse_click\n",
      "pct_click\n",
      "\n",
      "\n",
      "K Nearest Neighbours:\n",
      "page_activity_duration\n",
      "pct_doubleclick\n",
      "pct_mouse_move\n",
      "pct_input\n",
      "pct_click\n"
     ]
    }
   ],
   "source": [
    "print(\"One Rule Algorithm:\")\n",
    "for column in explored_columns:\n",
    "    print(column)\n",
    "\n",
    "\n",
    "print(\"\\n\")\n",
    "print(\"Random Forest:\")\n",
    "for column in top_5_feature_names_rf:\n",
    "    print(column)\n",
    "\n",
    "\n",
    "print(\"\\n\")\n",
    "print(\"Gradient Boosting:\")\n",
    "for column in top_5_feature_names:\n",
    "    print(column)\n",
    "\n",
    "print(\"\\n\")\n",
    "print(\"K Nearest Neighbours:\")\n",
    "for column in top_5_features_knn:\n",
    "    print(column)"
   ]
  },
  {
   "cell_type": "markdown",
   "metadata": {},
   "source": [
    "Vidíme, že algoritmy sa podobajú vo výbere atribútov, ktoré najlepšie predikujú \"ack\". Najlepšie atribúty sú \"page_activity_duration\", \"pct_doubleclick\" a \"pct_click\"."
   ]
  },
  {
   "cell_type": "markdown",
   "metadata": {},
   "source": [
    "#### Vizualizácia natrénovaných pravidiel"
   ]
  },
  {
   "cell_type": "markdown",
   "metadata": {},
   "source": [
    "Vizualizujeme si Random Forest klasifikátor."
   ]
  },
  {
   "cell_type": "code",
   "execution_count": 17,
   "metadata": {},
   "outputs": [
    {
     "data": {
      "image/png": "[encoded data removed]",
      "text/plain": [
       "<Figure size 1200x800 with 1 Axes>"
      ]
     },
     "metadata": {},
     "output_type": "display_data"
    }
   ],
   "source": [
    "tree_index = 0\n",
    "plt.figure(figsize=(12, 8))\n",
    "plot_tree(clf.estimators_[tree_index], filled=True, feature_names=[f\"feature_{i}\" for i in range(X_test.shape[1])])\n",
    "plt.title(f\"Decision Tree {tree_index + 1} from Random Forest Classifier\")\n",
    "plt.show()"
   ]
  },
  {
   "cell_type": "markdown",
   "metadata": {},
   "source": [
    "Vizualizácia pravidiel pre Random Forest klasifikátor na základe accuracy."
   ]
  },
  {
   "cell_type": "code",
   "execution_count": 18,
   "metadata": {},
   "outputs": [
    {
     "data": {
      "text/plain": [
       "\"import matplotlib.pyplot as plt\\nfrom sklearn.ensemble import RandomForestClassifier\\nfrom sklearn.metrics import accuracy_score\\n\\nfeature_accuracies = []\\n\\nfor i in range(X_train.shape[1]):\\n    X_train_single_feature = X_train.iloc[:, i:i+1]  # Assuming X_train is a DataFrame\\n    X_test_single_feature = X_test.iloc[:, i:i+1]    # Assuming X_test is a DataFrame\\n    \\n    clf_single_feature = RandomForestClassifier()\\n    clf_single_feature.fit(X_train_single_feature, y_train)  # No need for .values here\\n    \\n    predictions_single_feature = clf_single_feature.predict(X_test_single_feature)\\n    \\n    accuracy_single_feature = accuracy_score(y_test, predictions_single_feature)\\n    feature_accuracies.append((X_train.columns[i], accuracy_single_feature))\\n\\nsorted_features = sorted(feature_accuracies, key=lambda x: x[1], reverse=True)\\n\\ntop_5_feature_names = [feat[0] for feat in sorted_features[:5]]\\ntop_5_accuracies = [feat[1] for feat in sorted_features[:5]]\\n\\nplt.figure(figsize=(10, 6))\\nplt.bar(top_5_feature_names, top_5_accuracies, color='skyblue')\\nplt.xlabel('Feature Name')\\nplt.ylabel('Accuracy')\\nplt.title('Top 5 Features with Accuracies')\\nplt.xticks(rotation=45)\\nplt.tight_layout()\\nplt.show()\\n\""
      ]
     },
     "execution_count": 18,
     "metadata": {},
     "output_type": "execute_result"
    }
   ],
   "source": [
    "\"\"\"import matplotlib.pyplot as plt\n",
    "from sklearn.ensemble import RandomForestClassifier\n",
    "from sklearn.metrics import accuracy_score\n",
    "\n",
    "feature_accuracies = []\n",
    "\n",
    "for i in range(X_train.shape[1]):\n",
    "    X_train_single_feature = X_train.iloc[:, i:i+1]  # Assuming X_train is a DataFrame\n",
    "    X_test_single_feature = X_test.iloc[:, i:i+1]    # Assuming X_test is a DataFrame\n",
    "    \n",
    "    clf_single_feature = RandomForestClassifier()\n",
    "    clf_single_feature.fit(X_train_single_feature, y_train)  # No need for .values here\n",
    "    \n",
    "    predictions_single_feature = clf_single_feature.predict(X_test_single_feature)\n",
    "    \n",
    "    accuracy_single_feature = accuracy_score(y_test, predictions_single_feature)\n",
    "    feature_accuracies.append((X_train.columns[i], accuracy_single_feature))\n",
    "\n",
    "sorted_features = sorted(feature_accuracies, key=lambda x: x[1], reverse=True)\n",
    "\n",
    "top_5_feature_names = [feat[0] for feat in sorted_features[:5]]\n",
    "top_5_accuracies = [feat[1] for feat in sorted_features[:5]]\n",
    "\n",
    "plt.figure(figsize=(10, 6))\n",
    "plt.bar(top_5_feature_names, top_5_accuracies, color='skyblue')\n",
    "plt.xlabel('Feature Name')\n",
    "plt.ylabel('Accuracy')\n",
    "plt.title('Top 5 Features with Accuracies')\n",
    "plt.xticks(rotation=45)\n",
    "plt.tight_layout()\n",
    "plt.show()\n",
    "\"\"\""
   ]
  },
  {
   "cell_type": "markdown",
   "metadata": {},
   "source": [
    "### Hyperparameter tuning"
   ]
  },
  {
   "cell_type": "markdown",
   "metadata": {},
   "source": [
    "#### Gradient Boosting classifier"
   ]
  },
  {
   "cell_type": "markdown",
   "metadata": {},
   "source": [
    "Gradient Boosting je veľmi presný model, obzvlášť účinný pri práci s komplexnými dátami, čo je výhodné v rôznych aplikáciách od klasifikácie po regresiu. Jeho flexibilita umožňuje prispôsobenie rozličným typom stratových funkcií, čo ho robí vhodným pre rôzne prediktívne úlohy. Okrem toho, ponúka viacero možností na kontrolu overfittingu, ako napríklad nastavenie hĺbky stromu a rýchlosti učenia, čo zlepšuje jeho schopnosť generalizovať na nevidené dáta."
   ]
  },
  {
   "cell_type": "markdown",
   "metadata": {},
   "source": [
    "##### Vysvetlenie hyperparametrov"
   ]
  },
  {
   "cell_type": "code",
   "execution_count": 19,
   "metadata": {},
   "outputs": [
    {
     "name": "stdout",
     "output_type": "stream",
     "text": [
      "ccp_alpha: 0.0\n",
      "criterion: friedman_mse\n",
      "init: None\n",
      "learning_rate: 0.1\n",
      "loss: log_loss\n",
      "max_depth: 3\n",
      "max_features: None\n",
      "max_leaf_nodes: None\n",
      "min_impurity_decrease: 0.0\n",
      "min_samples_leaf: 1\n",
      "min_samples_split: 2\n",
      "min_weight_fraction_leaf: 0.0\n",
      "n_estimators: 100\n",
      "n_iter_no_change: None\n",
      "random_state: None\n",
      "subsample: 1.0\n",
      "tol: 0.0001\n",
      "validation_fraction: 0.1\n",
      "verbose: 0\n",
      "warm_start: False\n"
     ]
    }
   ],
   "source": [
    "params = GradientBoostingClassifier().get_params()\n",
    "for key, value in params.items():\n",
    "    print(f\"{key}: {value}\")"
   ]
  },
  {
   "cell_type": "markdown",
   "metadata": {},
   "source": [
    "- ccp_alpha: Komplexita stromu. Čím vyššia hodnota, tým viac sa strom zjednoduší.\n",
    "- criterion: Kritérium pre výber atribútu, ktorý sa použije na rozdelenie uzla.\n",
    "- init: Inicializácia stromu.\n",
    "- learning_rate: Rýchlosť učenia.\n",
    "- loss: Funkcia straty.\n",
    "- max_depth: Maximálna hĺbka stromu.\n",
    "- max_features: Maximálny počet atribútov, ktoré sa použijú na rozdelenie uzla.\n",
    "- max_leaf_nodes: Maximálny počet listových uzlov.\n",
    "- min_impurity_decrease: Uzol sa rozdelí, ak sa impurity v jeho rodičovskom uzle zníži o túto hodnotu.\n",
    "- min_samples_leaf: Minimálny počet vzoriek v listovom uzle.\n",
    "- min_weight_fraction_leaf: Minimálna váhová frakcia v listovom uzle.\n",
    "- n_estimators: Počet stromov v ensemble.\n",
    "- n_iter_no_change: Počet iterácií bez zlepšenia pred ukončením učenia.\n",
    "- random_state: Seed pre generovanie náhodných čísel.\n",
    "- subsample: Podiel vzoriek použitých na trénovanie každého stromu.\n",
    "- tol: Tolerancia pre zastavenie učenia.\n",
    "- validation_fraction: Podiel vzoriek použitých na validáciu každého stromu.\n",
    "- verbose: Výpis informácií o učení.\n",
    "- warm_start: Použiť existujúci model na trénovanie a pridať ďalšie stromy do ensemble."
   ]
  },
  {
   "cell_type": "code",
   "execution_count": 20,
   "metadata": {},
   "outputs": [
    {
     "name": "stdout",
     "output_type": "stream",
     "text": [
      "Best Estimator: GradientBoostingClassifier(learning_rate=0.09, max_depth=5, min_samples_leaf=4,\n",
      "                           min_samples_split=4, n_estimators=120)\n",
      "Best Score: 0.9480698104484512\n",
      "Best Parameters: {'random_state': None, 'n_estimators': 120, 'min_samples_split': 4, 'min_samples_leaf': 4, 'max_depth': 5, 'loss': 'log_loss', 'learning_rate': 0.09, 'criterion': 'friedman_mse'}\n",
      "Final Model Score on Test Data: 0.9600443951165372\n"
     ]
    }
   ],
   "source": [
    "from sklearn.ensemble import GradientBoostingClassifier\n",
    "from sklearn.model_selection import RandomizedSearchCV\n",
    "\n",
    "# Adjusted parameter grid to combat overfitting\n",
    "gb_parameters = {\n",
    "    'criterion': ['friedman_mse', 'squared_error'],\n",
    "    'loss': ['log_loss', 'exponential'],\n",
    "    'max_depth': [3, 4, 5],  \n",
    "    'n_estimators': [80,100, 120], \n",
    "    'learning_rate': [0.09, 0.1, 0.11],\n",
    "    'random_state': [None, 1],\n",
    "    'min_samples_split': [3, 4, 5],  \n",
    "    'min_samples_leaf': [2, 3, 4] \n",
    "}\n",
    "\n",
    "# Initialize RandomizedSearchCV\n",
    "gb_clf = RandomizedSearchCV(\n",
    "    estimator=GradientBoostingClassifier(), \n",
    "    param_distributions=gb_parameters,\n",
    "    cv=5,\n",
    "    n_iter=10,\n",
    "    n_jobs=-1\n",
    ")\n",
    "\n",
    "# Fit the random search\n",
    "gb_search = gb_clf.fit(X_train, y_train)\n",
    "\n",
    "# Output the results\n",
    "print(\"Best Estimator:\", gb_search.best_estimator_)\n",
    "print(\"Best Score:\", gb_search.best_score_)\n",
    "print(\"Best Parameters:\", gb_search.best_params_)\n",
    "\n",
    "# Train the best model on the entire training data and get feature importances\n",
    "best_gb_model = gb_search.best_estimator_.fit(X_train, y_train)\n",
    "feature_importances = best_gb_model.feature_importances_\n",
    "\n",
    "# Select the top N features (choose N, e.g., top 5)\n",
    "N = 5\n",
    "top_features_indices = feature_importances.argsort()[-N:][::-1]\n",
    "top_features = [X_train.columns[i] for i in top_features_indices]\n",
    "\n",
    "# Restrict your training and testing sets to these top features\n",
    "X_train_reduced = X_train[top_features]\n",
    "X_test_reduced = X_test[top_features]\n",
    "\n",
    "# Train and evaluate your model on this reduced feature set\n",
    "final_model = gb_search.best_estimator_.fit(X_train_reduced, y_train)\n",
    "\n",
    "\n",
    "# Evaluate the performance of the final model\n",
    "final_model_score = final_model.score(X_test_reduced, y_test)\n",
    "print(\"Final Model Score on Test Data:\", final_model_score)\n"
   ]
  },
  {
   "cell_type": "markdown",
   "metadata": {},
   "source": [
    "##### Gradient Boosting before hyperparameter tuning"
   ]
  },
  {
   "cell_type": "code",
   "execution_count": 21,
   "metadata": {},
   "outputs": [
    {
     "name": "stdout",
     "output_type": "stream",
     "text": [
      "Accuracy: 0.96226\n",
      "Precision: 0.94331\n",
      "Recall: 0.97882\n"
     ]
    }
   ],
   "source": [
    "gb_model = GradientBoostingClassifier()\n",
    "\n",
    "gb_model.fit(X_train, y_train)\n",
    "\n",
    "gb_y_pred = gb_model.predict(X_test)\n",
    "\n",
    "gb_accuracy = accuracy_score(y_test, gb_y_pred)\n",
    "gb_precision2 = precision_score(y_test, gb_y_pred)\n",
    "gb_recall2 = recall_score(y_test, gb_y_pred)\n",
    "\n",
    "print(f\"Accuracy: {gb_accuracy:.5f}\")\n",
    "print(f\"Precision: {gb_precision2:.5f}\")\n",
    "print(f\"Recall: {gb_recall2:.5f}\")"
   ]
  },
  {
   "cell_type": "code",
   "execution_count": 22,
   "metadata": {},
   "outputs": [],
   "source": [
    "def evaluate_model_performance(clf, X_train, y_train, X_test, y_test):\n",
    "    # Fit the model\n",
    "    clf.fit(X_train, y_train)\n",
    "\n",
    "    # Predictions on training and test data\n",
    "    train_predictions = clf.predict(X_train)\n",
    "    test_predictions = clf.predict(X_test)\n",
    "\n",
    "    # Calculate metrics for training data\n",
    "    train_accuracy = accuracy_score(y_train, train_predictions)\n",
    "    train_precision = precision_score(y_train, train_predictions)\n",
    "    train_recall = recall_score(y_train, train_predictions)\n",
    "\n",
    "    # Calculate metrics for test data\n",
    "    test_accuracy = accuracy_score(y_test, test_predictions)\n",
    "    test_precision = precision_score(y_test, test_predictions)\n",
    "    test_recall = recall_score(y_test, test_predictions)\n",
    "\n",
    "    # Print training metrics\n",
    "    print(\"Training Metrics:\")\n",
    "    print(f\"Accuracy: {train_accuracy:.5f}\")\n",
    "    print(f\"Precision: {train_precision:.5f}\")\n",
    "    print(f\"Recall: {train_recall:.5f}\\n\")\n",
    "\n",
    "    # Print test metrics\n",
    "    print(\"Test Metrics:\")\n",
    "    print(f\"Accuracy: {test_accuracy:.5f}\")\n",
    "    print(f\"Precision: {test_precision:.5f}\")\n",
    "    print(f\"Recall: {test_recall:.5f}\\n\")\n",
    "\n",
    "    # Check for Underfitting\n",
    "    if train_accuracy < 0.6 and test_accuracy < 0.6:\n",
    "        print(\"The model is underfitting.\")\n",
    "    else:\n",
    "        print(f\"The model is not underfitting because the training and test accuracies are {train_accuracy:.5f} and {test_accuracy:.5f}.\")\n",
    "\n",
    "    # Check for Overfitting\n",
    "    if train_accuracy > 0.8 and (train_accuracy - test_accuracy) > 0.1 or train_accuracy == 1.0:\n",
    "        print(\"The model is overfitting.\")\n",
    "    else:\n",
    "        print(f\"The model is not overfitting because the difference between the training and test accuracies is {train_accuracy - test_accuracy:.5f}.\")\n",
    "\n",
    "    # Check for Stability\n",
    "    if abs(train_accuracy - test_accuracy) < 0.1:\n",
    "        print(f\"The model is stable because the difference between the training and test accuracies is {abs(train_accuracy - test_accuracy):.5f}.\")\n",
    "    else:\n",
    "        print(\"The model is not stable.\")\n"
   ]
  },
  {
   "cell_type": "markdown",
   "metadata": {},
   "source": [
    "##### Gradient Boosting after hyperparameter tuning"
   ]
  },
  {
   "cell_type": "code",
   "execution_count": 23,
   "metadata": {},
   "outputs": [
    {
     "name": "stdout",
     "output_type": "stream",
     "text": [
      "Training Metrics:\n",
      "Accuracy: 0.98167\n",
      "Precision: 0.97670\n",
      "Recall: 0.98473\n",
      "\n",
      "Test Metrics:\n",
      "Accuracy: 0.96004\n",
      "Precision: 0.94713\n",
      "Recall: 0.96941\n",
      "\n",
      "The model is not underfitting because the training and test accuracies are 0.98167 and 0.96004.\n",
      "The model is not overfitting because the difference between the training and test accuracies is 0.02163.\n",
      "The model is stable because the difference between the training and test accuracies is 0.02163.\n"
     ]
    }
   ],
   "source": [
    "clf = gb_search.best_estimator_\n",
    "evaluate_model_performance(clf, X_train_reduced, y_train, X_test_reduced, y_test)"
   ]
  },
  {
   "cell_type": "markdown",
   "metadata": {},
   "source": [
    "#### Random Forest classifier"
   ]
  },
  {
   "cell_type": "markdown",
   "metadata": {},
   "source": [
    "Random Forest je obľúbený pre svoju robustnosť a výkonnosť, ktorá je často porovnateľná s komplexnejšími modelmi. Vďaka svojmu spôsobu náhodnej výberu prvkov a tvorby stromov poskytuje Random Forest vynikajúcu odolnosť voči overfittingu. Táto metóda je tiež schopná efektívne spracovávať veľké dátove sady s veľkým počtom premenných, čo je výhodné pri riešení širokej škály úloh prediktívnej analýzy."
   ]
  },
  {
   "cell_type": "markdown",
   "metadata": {},
   "source": [
    "##### Vysvetlenie hyperparametrov"
   ]
  },
  {
   "cell_type": "code",
   "execution_count": 24,
   "metadata": {},
   "outputs": [
    {
     "name": "stdout",
     "output_type": "stream",
     "text": [
      "bootstrap: True\n",
      "ccp_alpha: 0.0\n",
      "class_weight: None\n",
      "criterion: gini\n",
      "max_depth: None\n",
      "max_features: sqrt\n",
      "max_leaf_nodes: None\n",
      "max_samples: None\n",
      "min_impurity_decrease: 0.0\n",
      "min_samples_leaf: 1\n",
      "min_samples_split: 2\n",
      "min_weight_fraction_leaf: 0.0\n",
      "n_estimators: 100\n",
      "n_jobs: None\n",
      "oob_score: False\n",
      "random_state: None\n",
      "verbose: 0\n",
      "warm_start: False\n"
     ]
    }
   ],
   "source": [
    "params = RandomForestClassifier().get_params()\n",
    "for key, value in params.items():\n",
    "    print(f\"{key}: {value}\")"
   ]
  },
  {
   "cell_type": "markdown",
   "metadata": {},
   "source": [
    "- bootstrap: Použiť bootstrap vzorkovanie. Bootstrap vzorkovanie je metóda, ktorá sa používa na zlepšenie presnosti modelu.\n",
    "- class_weight: Váhy tried.\n",
    "- max_samples: Maximálny počet vzoriek použitých na trénovanie každého stromu.\n",
    "-  n_jobs: Počet jadier procesora použitých na trénovanie.\n",
    "-  oob_score: Použiť out-of-bag vzorky na odhad presnosti. Out-of-bag vzorky sú vzorky, ktoré neboli použité na trénovanie stromu."
   ]
  },
  {
   "cell_type": "code",
   "execution_count": 25,
   "metadata": {},
   "outputs": [
    {
     "name": "stdout",
     "output_type": "stream",
     "text": [
      "Best Estimator: RandomForestClassifier(bootstrap=False, criterion='entropy', max_depth=7,\n",
      "                       max_features='log2', min_samples_leaf=3)\n",
      "Best Score: 0.9266859300354445\n",
      "Best Parameters: {'n_estimators': 100, 'min_samples_split': 2, 'min_samples_leaf': 3, 'max_features': 'log2', 'max_depth': 7, 'criterion': 'entropy', 'bootstrap': False}\n",
      "Number of Splits: 5\n"
     ]
    }
   ],
   "source": [
    "estimator = RandomForestClassifier()\n",
    "\n",
    "# Random Forest Parameters\n",
    "rf_parameters = {\n",
    "    'n_estimators': [100,120,140,160],\n",
    "    'max_depth': [ 3,5,7],\n",
    "    'min_samples_split': [2, 4],\n",
    "    'min_samples_leaf': [1, 2,3,4],\n",
    "    'bootstrap': [True, False],\n",
    "    'criterion': ['gini', 'entropy'],\n",
    "    'max_features': ['sqrt', 'log2']\n",
    "}\n",
    "\n",
    "scoring = ['accuracy', 'precision_micro']\n",
    "\n",
    "rf_clf = RandomizedSearchCV(\n",
    "    estimator=estimator, \n",
    "    param_distributions=rf_parameters, \n",
    "    cv=5, \n",
    "    n_jobs=-1,\n",
    "    n_iter=10,\n",
    ")\n",
    "\n",
    "rf_search = rf_clf.fit(X_train, y_train)\n",
    "\n",
    "# Output the results\n",
    "print(\"Best Estimator:\", rf_search.best_estimator_)\n",
    "print(\"Best Score:\", rf_search.best_score_)\n",
    "print(\"Best Parameters:\", rf_search.best_params_)\n",
    "print(\"Number of Splits:\", rf_search.n_splits_)\n",
    "\n",
    "# Feature Importance and Selection\n",
    "best_rf_model = rf_search.best_estimator_.fit(X_train, y_train)\n",
    "rf_feature_importances = best_rf_model.feature_importances_\n",
    "\n",
    "# Select the top N features (e.g., top 5)\n",
    "N = 5\n",
    "rf_top_features_indices = rf_feature_importances.argsort()[-N:][::-1]\n",
    "rf_top_features = [X_train.columns[i] for i in rf_top_features_indices]\n",
    "\n",
    "# Restrict your training and testing sets to these top features\n",
    "X_train_reduced = X_train[rf_top_features]\n",
    "X_test_reduced = X_test[rf_top_features]"
   ]
  },
  {
   "cell_type": "markdown",
   "metadata": {},
   "source": [
    "##### Random Forest before hyperparameter tuning"
   ]
  },
  {
   "cell_type": "code",
   "execution_count": 26,
   "metadata": {},
   "outputs": [
    {
     "name": "stdout",
     "output_type": "stream",
     "text": [
      "Accuracy: 0.95893\n",
      "Precision: 0.94091\n",
      "Recall: 0.97412\n"
     ]
    }
   ],
   "source": [
    "clf = RandomForestClassifier()\n",
    "clf.fit(X_train, y_train)\n",
    "\n",
    "predictions = clf.predict(X_test)\n",
    "\n",
    "accuracy = accuracy_score(y_test, predictions)\n",
    "precision = precision_score(y_test, predictions)\n",
    "recall = recall_score(y_test, predictions)\n",
    "\n",
    "print(f\"Accuracy: {accuracy:.5f}\")\n",
    "print(f\"Precision: {precision:.5f}\")\n",
    "print(f\"Recall: {recall:.5f}\")"
   ]
  },
  {
   "cell_type": "markdown",
   "metadata": {},
   "source": [
    "##### Random Forest after hyperparameter tuning"
   ]
  },
  {
   "cell_type": "code",
   "execution_count": 27,
   "metadata": {},
   "outputs": [
    {
     "name": "stdout",
     "output_type": "stream",
     "text": [
      "Training Metrics:\n",
      "Accuracy: 0.96279\n",
      "Precision: 0.95216\n",
      "Recall: 0.97005\n",
      "\n",
      "Test Metrics:\n",
      "Accuracy: 0.96226\n",
      "Precision: 0.94737\n",
      "Recall: 0.97412\n",
      "\n",
      "The model is not underfitting because the training and test accuracies are 0.96279 and 0.96226.\n",
      "The model is not overfitting because the difference between the training and test accuracies is 0.00052.\n",
      "The model is stable because the difference between the training and test accuracies is 0.00052.\n"
     ]
    }
   ],
   "source": [
    "clf = rf_search.best_estimator_\n",
    "evaluate_model_performance(clf, X_train_reduced, y_train, X_test_reduced, y_test)"
   ]
  },
  {
   "cell_type": "markdown",
   "metadata": {},
   "source": [
    "#### KNeighbors classifier"
   ]
  },
  {
   "cell_type": "markdown",
   "metadata": {},
   "source": [
    "K-Nearest Neighbors (KNN) je známy svojou jednoduchosťou a intuitívnosťou, čo uľahčuje jeho pochopenie a implementáciu. Jeho flexibilita výberu počtu susedov a metrík vzdialenosti umožňuje prispôsobiť model špecifickým potrebám dát. Navyše, KNN je efektívny pri zachytávaní komplexných vzorov v dátach, čo je výhodné, keď sú presné predpovede založené na podobnosti dát kľúčové."
   ]
  },
  {
   "cell_type": "markdown",
   "metadata": {},
   "source": [
    "##### Vysvetlenie hyperparametrov\n"
   ]
  },
  {
   "cell_type": "code",
   "execution_count": 28,
   "metadata": {},
   "outputs": [
    {
     "name": "stdout",
     "output_type": "stream",
     "text": [
      "algorithm: auto\n",
      "leaf_size: 30\n",
      "metric: minkowski\n",
      "metric_params: None\n",
      "n_jobs: None\n",
      "n_neighbors: 5\n",
      "p: 2\n",
      "weights: uniform\n"
     ]
    }
   ],
   "source": [
    "params = KNeighborsClassifier().get_params()\n",
    "for key, value in params.items():\n",
    "    print(f\"{key}: {value}\")"
   ]
  },
  {
   "cell_type": "markdown",
   "metadata": {},
   "source": [
    "- algorithm: Algoritmus použitý na nájdenie najbližších susedov. Algoritmus môže byť \"ball_tree\", \"kd_tree\", \"brute\" alebo \"auto\".\n",
    "- leaf_size: Veľkosť listového uzla.\n",
    "- metric: Metrika použitá na výpočet vzdialenosti medzi bodmi. Metrika môže byť \"euclidean\", \"manhattan\" alebo \"minkowski\".\n",
    "- n_neighbors: Počet najbližších susedov.\n",
    "- p: Parameter pre metriku \"minkowski\".\n",
    "- weights: Váhy použité na predikciu bodu. Váhy môžu byť \"uniform\" alebo \"distance\"."
   ]
  },
  {
   "cell_type": "code",
   "execution_count": 29,
   "metadata": {},
   "outputs": [
    {
     "name": "stdout",
     "output_type": "stream",
     "text": [
      "Best Estimator: KNeighborsClassifier(algorithm='brute', metric='euclidean', n_neighbors=10)\n",
      "Best Score: 0.9563996763754045\n",
      "Best Parameters: {'weights': 'uniform', 'p': 2, 'n_neighbors': 10, 'metric': 'euclidean', 'leaf_size': 30, 'algorithm': 'brute'}\n",
      "Number of Splits: 5\n"
     ]
    }
   ],
   "source": [
    "from sklearn.neighbors import KNeighborsClassifier\n",
    "from sklearn.model_selection import RandomizedSearchCV\n",
    "from sklearn.preprocessing import StandardScaler\n",
    "\n",
    "# KNN Parameters\n",
    "knn_parameters = {\n",
    "    'n_neighbors': [5, 10,15,20],  \n",
    "    'weights': ['uniform', 'distance'],\n",
    "    'algorithm': ['auto', 'ball_tree', 'kd_tree', 'brute'],\n",
    "    'leaf_size': [30, 40, 50],\n",
    "    'metric': ['euclidean', 'manhattan', 'minkowski'],\n",
    "    'p': [1, 2]\n",
    "}\n",
    "\n",
    "scoring = ['accuracy', 'precision_micro']\n",
    "\n",
    "knn_clf = RandomizedSearchCV(\n",
    "    estimator=KNeighborsClassifier(), \n",
    "    param_distributions=knn_parameters, \n",
    "    scoring=scoring,\n",
    "    refit='accuracy', \n",
    "    cv=5, \n",
    "    n_jobs=-1\n",
    ")\n",
    "\n",
    "knn_search = knn_clf.fit(X_train_reduced, y_train)\n",
    "\n",
    "# Output the results\n",
    "print(\"Best Estimator:\", knn_search.best_estimator_)\n",
    "print(\"Best Score:\", knn_search.best_score_)\n",
    "print(\"Best Parameters:\", knn_search.best_params_)\n",
    "print(\"Number of Splits:\", knn_search.n_splits_)\n",
    "\n"
   ]
  },
  {
   "cell_type": "markdown",
   "metadata": {},
   "source": [
    "##### KNN before hyperparameter tuning"
   ]
  },
  {
   "cell_type": "code",
   "execution_count": 30,
   "metadata": {},
   "outputs": [
    {
     "name": "stdout",
     "output_type": "stream",
     "text": [
      "Accuracy: 0.95450\n",
      "Precision: 0.95070\n",
      "Recall: 0.95294\n"
     ]
    }
   ],
   "source": [
    "knn_model = KNeighborsClassifier()\n",
    "\n",
    "knn_model.fit(X_train_filtered, y_train)\n",
    "\n",
    "knn_y_pred = knn_model.predict(X_test_filtered)\n",
    "\n",
    "knn_accuracy = accuracy_score(y_test, knn_y_pred)\n",
    "knn_precision = precision_score(y_test, knn_y_pred)\n",
    "knn_recall = recall_score(y_test, knn_y_pred)\n",
    "\n",
    "print(f\"Accuracy: {knn_accuracy:.5f}\")\n",
    "print(f\"Precision: {knn_precision:.5f}\")\n",
    "print(f\"Recall: {knn_recall:.5f}\")"
   ]
  },
  {
   "cell_type": "markdown",
   "metadata": {},
   "source": [
    "##### KNN after hyperparameter tuning"
   ]
  },
  {
   "cell_type": "code",
   "execution_count": 31,
   "metadata": {},
   "outputs": [
    {
     "name": "stdout",
     "output_type": "stream",
     "text": [
      "Training Metrics:\n",
      "Accuracy: 0.95723\n",
      "Precision: 0.95055\n",
      "Recall: 0.95948\n",
      "\n",
      "Test Metrics:\n",
      "Accuracy: 0.96559\n",
      "Precision: 0.95392\n",
      "Recall: 0.97412\n",
      "\n",
      "The model is not underfitting because the training and test accuracies are 0.95723 and 0.96559.\n",
      "The model is not overfitting because the difference between the training and test accuracies is -0.00836.\n",
      "The model is stable because the difference between the training and test accuracies is 0.00836.\n"
     ]
    }
   ],
   "source": [
    "clf = knn_search.best_estimator_\n",
    "evaluate_model_performance(clf, X_train_reduced, y_train, X_test_reduced, y_test)"
   ]
  },
  {
   "cell_type": "markdown",
   "metadata": {},
   "source": [
    "#### Voting ensemble "
   ]
  },
  {
   "cell_type": "code",
   "execution_count": 32,
   "metadata": {},
   "outputs": [
    {
     "name": "stdout",
     "output_type": "stream",
     "text": [
      "Voting Classifier Score: 0.9578246392896781\n"
     ]
    }
   ],
   "source": [
    "from sklearn.ensemble import VotingClassifier\n",
    "\n",
    "# Create individual models with their best parameters\n",
    "model1 = gb_search.best_estimator_\n",
    "model2 = rf_search.best_estimator_\n",
    "model3 = knn_search.best_estimator_\n",
    "\n",
    "# Create a voting classifier\n",
    "voting_clf = VotingClassifier(\n",
    "    estimators=[('gb', model1), ('rf', model2), ('knn', model3)],\n",
    "    voting='hard'\n",
    ")\n",
    "\n",
    "# Fit the voting classifier\n",
    "voting_clf.fit(X_train, y_train)\n",
    "\n",
    "# Evaluate the model\n",
    "voting_score = voting_clf.score(X_test, y_test)\n",
    "print(f\"Voting Classifier Score: {voting_score}\")\n"
   ]
  },
  {
   "cell_type": "code",
   "execution_count": 33,
   "metadata": {},
   "outputs": [
    {
     "name": "stdout",
     "output_type": "stream",
     "text": [
      "Training Metrics:\n",
      "Accuracy: 0.96612\n",
      "Precision: 0.95879\n",
      "Recall: 0.97005\n",
      "\n",
      "Test Metrics:\n",
      "Accuracy: 0.96670\n",
      "Precision: 0.95195\n",
      "Recall: 0.97882\n",
      "\n",
      "The model is not underfitting because the training and test accuracies are 0.96612 and 0.96670.\n",
      "The model is not overfitting because the difference between the training and test accuracies is -0.00058.\n",
      "The model is stable because the difference between the training and test accuracies is 0.00058.\n"
     ]
    }
   ],
   "source": [
    "clf = voting_clf\n",
    "evaluate_model_performance(clf, X_train_reduced, y_train, X_test_reduced, y_test)"
   ]
  },
  {
   "cell_type": "markdown",
   "metadata": {},
   "source": [
    "#### Stacking ensemble"
   ]
  },
  {
   "cell_type": "code",
   "execution_count": 34,
   "metadata": {},
   "outputs": [
    {
     "name": "stdout",
     "output_type": "stream",
     "text": [
      "Stacking Classifier Score: 0.9655937846836848\n"
     ]
    }
   ],
   "source": [
    "from sklearn.ensemble import StackingClassifier\n",
    "from sklearn.linear_model import LogisticRegression\n",
    "\n",
    "# Create individual models with their best parameters\n",
    "model1 = gb_search.best_estimator_\n",
    "model2 = rf_search.best_estimator_\n",
    "model3 = knn_search.best_estimator_\n",
    "\n",
    "# Define the stacking ensemble\n",
    "stacking_clf = StackingClassifier(\n",
    "    estimators=[('gb', model1), ('rf', model2), ('knn', model3)],\n",
    "    final_estimator=LogisticRegression(),\n",
    "    cv=5\n",
    ")\n",
    "\n",
    "# Fit the stacking classifier\n",
    "stacking_clf.fit(X_train, y_train)\n",
    "\n",
    "# Evaluate the model\n",
    "stacking_score = stacking_clf.score(X_test, y_test)\n",
    "print(f\"Stacking Classifier Score: {stacking_score}\")\n"
   ]
  },
  {
   "cell_type": "code",
   "execution_count": 35,
   "metadata": {},
   "outputs": [
    {
     "name": "stdout",
     "output_type": "stream",
     "text": [
      "Training Metrics:\n",
      "Accuracy: 0.96390\n",
      "Precision: 0.95753\n",
      "Recall: 0.96653\n",
      "\n",
      "Test Metrics:\n",
      "Accuracy: 0.96670\n",
      "Precision: 0.95195\n",
      "Recall: 0.97882\n",
      "\n",
      "The model is not underfitting because the training and test accuracies are 0.96390 and 0.96670.\n",
      "The model is not overfitting because the difference between the training and test accuracies is -0.00280.\n",
      "The model is stable because the difference between the training and test accuracies is 0.00280.\n"
     ]
    }
   ],
   "source": [
    "clf = stacking_clf\n",
    "evaluate_model_performance(clf, X_train_reduced, y_train, X_test_reduced, y_test)"
   ]
  },
  {
   "cell_type": "markdown",
   "metadata": {},
   "source": [
    "Použitá literatúra:\n",
    "- https://github.com/thismlguy/analytics_vidhya/tree/master/Articles/Parameter_Tuning_GBM_with_Example\n",
    "- https://www.analyticsvidhya.com/blog/2016/02/complete-guide-parameter-tuning-gradient-boosting-gbm-python/\n"
   ]
  }
 ],
 "metadata": {
  "kernelspec": {
   "display_name": "Python 3",
   "language": "python",
   "name": "python3"
  },
  "language_info": {
   "codemirror_mode": {
    "name": "ipython",
    "version": 3
   },
   "file_extension": ".py",
   "mimetype": "text/x-python",
   "name": "python",
   "nbconvert_exporter": "python",
   "pygments_lexer": "ipython3",
   "version": "3.11.1"
  }
 },
 "nbformat": 4,
 "nbformat_minor": 2
}
